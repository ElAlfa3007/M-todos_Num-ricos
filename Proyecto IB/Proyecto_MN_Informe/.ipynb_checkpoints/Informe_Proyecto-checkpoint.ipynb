{
 "cells": [
  {
   "cell_type": "raw",
   "id": "50e5a054-c1c5-44b3-afa0-4377ae412da1",
   "metadata": {},
   "source": [
    "---\n",
    "lang: es\n",
    "format: \n",
    "  pdf: \n",
    "    cite-method: biblatex\n",
    "    number-sections: false\n",
    "    lof: false\n",
    "    lot: false\n",
    "    fontfamily: fontenc\n",
    "    font-type: ptm\n",
    "    colorlinks: true\n",
    "    pagestyle: empty\n",
    "    geometry: \"left=3cm, right=2cm, top=2cm, bottom=2cm, marginparwidth=2cm\"\n",
    "    documentclass: article\n",
    "    header-includes:\n",
    "      - \\usepackage{titling}\n",
    "      - \\setlength{\\droptitle}{-5em}\n",
    "execute:\n",
    "    echo: true\n",
    "    error: false\n",
    "    warning: false\n",
    "jupyter: python3\n",
    "bibliography: ref.bib\n",
    "link-citations: true\n",
    "---"
   ]
  },
  {
   "cell_type": "markdown",
   "id": "62ea9cf5-7404-4501-a6a7-12477fac7253",
   "metadata": {},
   "source": [
    "\\section{1. Objetivos}\n",
    "\n",
    "1.1.- Desarrollar un algoritmo capaz de calcular con precisión el ancho de un pasillo, dado que existen dos escaleras que están inclinadas desde las paredes.\n",
    "\n",
    "1.2.- Aplicar fórmulas matemáticas para determinar la relación entre los valores conocidos y el valor que se desea calcular, con el fin de obtener una ecuación que permita encontrar el ancho de la habitación (W)."
   ]
  },
  {
   "cell_type": "markdown",
   "id": "46052dc6-357c-4e40-8179-91494583fab2",
   "metadata": {},
   "source": [
    "\\section{2. Introducción}\n",
    "\n",
    "En el estudio de la geometría aplicada y la ingeniería civil, la determinación precisa de dimensiones en estructuras físicas es una tarea fundamental. Un ejemplo clásico de este tipo de problemas es el cálculo del ancho de un pasillo utilizando la intersección de dos escaleras que se inclinan desde paredes opuestas. Este tipo de análisis no solo es relevante en el diseño arquitectónico y la construcción, sino que también encuentra aplicaciones en situaciones cotidianas, como la optimización del uso del espacio en interiores.  \n",
    "En este proyecto, nos enfocaremos en resolver el problema de calcular el ancho de un pasillo (W) cuando se conocen las longitudes de dos escaleras ($𝑥_1$) y ($𝑥_2$) y la altura (H) a la que estas se cruzan. A través de un enfoque geométrico y el uso de principios de trigonometría, derivaremos una fórmula que permita encontrar (W) de manera eficiente y precisa.\n",
    "\n",
    "El objetivo principal es desarrollar una comprensión profunda de la relación entre las variables involucradas y proporcionar una herramienta útil para profesionales y estudiantes en campos relacionados. Además, este proyecto servirá como un ejemplo ilustrativo de cómo aplicar conceptos matemáticos para resolver problemas prácticos en el mundo real."
   ]
  },
  {
   "cell_type": "markdown",
   "id": "abdde23b-35f3-4c18-b8f6-8213c14691df",
   "metadata": {},
   "source": [
    "\\section{3. Metodología}\n",
    "\n",
    "\\subsection{3.1. Descripción de la solución}\n",
    "\n",
    "Para abordar la solución al problema planteado, es fundamental desarrollar un marco gráfico e hipotético que permita derivar una ecuación que dependa exclusivamente de las variables $H,x_1,x_2$ y $W$. El objetivo es resolver esta ecuación mediante algún método númerico eficiente. Las consideraciones iniciales establecen que todas las medidas deben ser no negativas y que una escalera siempre debe ser mayor o igual a la otra. Matemáticamente, esto se expresa como $x_1,x_2,H,W>0$ y $x1 \\leq x2$. \n",
    "\n",
    "Una vez obtenida la ecuación que relaciona $x_1,x_2,H$ y $W$, se aplica el método de Bisección para encontrar la solución $W$ en la ecuación $f(W)=0$. Para asegurar la efectividad del método es crucial realizar un análisis completo de los límites que afectan a las variables $x_1,x_2,H$ y $W$.   \n",
    "\n",
    "Para la implementación práctica, se desarrola una interfaz que permite visualizar cómo varía el ancho del pasillo al ajustar  los valores de $x_1,x_2$ y $H$. Esta interfaz proporciona una herramienta intuitiva y eficaz para comprender el impacto de los cambio en las dimensiones de las escaleras y la altura de intersección sobre el ancho del pasillo.    \n",
    "\n",
    "\\subsection{3.2. Desarrollo matemático}\n",
    "\n",
    "Consideremos el siguiente gráfico:"
   ]
  },
  {
   "cell_type": "markdown",
   "id": "455fdddc-0131-4ea0-a155-6abfe1d5c674",
   "metadata": {},
   "source": [
    "![Gráfico del problema con todas las hipótesis desarrolladas.](Gproblema.png){widht=90%}\n",
    "\n"
   ]
  },
  {
   "cell_type": "markdown",
   "id": "40573e84-b848-4ef8-ab1a-cc4acf37d5cb",
   "metadata": {},
   "source": [
    "Para resolver el problema primero escribimos las hipótesis más importantes que desarollamos en el gráfico. Primero las relaciones trigonométricas:\n",
    "\n",
    "\\begin{equation}\n",
    "    sin(\\phi) = \\dfrac{W}{x_2}\n",
    "\\end{equation}\n",
    "\\begin{equation}\n",
    "    sin(\\beta)=\\dfrac{H}{CB}\n",
    "\\end{equation}\n",
    "\n",
    "\\begin{equation}\n",
    "    sin(\\beta) = \\dfrac{h_1}{x_1}\n",
    "\\end{equation}\n",
    "\n",
    "\\begin{equation}\n",
    "    sin(\\alpha) = \\dfrac{h_2}{x_2} , \n",
    "    cos(\\alpha) = \\dfrac{W}{x_2} , \n",
    "    sin(\\beta) = \\dfrac{W}{x_1}\n",
    "\\end{equation}\n",
    "\n",
    "Luego, escribimos las relaciones entre los ángulos $\\alpha, \\beta, \\hat{1}$ y $\\hat{2}$:  \n",
    "\\begin{equation*}\n",
    "    \\hat{1}+\\alpha+\\beta = 180° = \\hat{1}+ \\hat{2} \n",
    "\\end{equation*}\n",
    "\\begin{equation}\n",
    "    \\rightarrow \\alpha + \\beta = \\hat{2}\\\\\n",
    "\\end{equation}\n",
    "\n",
    "Con todas estas hipótesis pasamos a trabajar el problema, apliquemos ley de senos al triángulo BCD:  \n",
    "\\begin{equation*}\n",
    "    \\dfrac{h_2}{sin(\\hat{2})} = \\dfrac{CB}{sin(\\phi)} = \\dfrac{CD}{sin(\\theta)}\n",
    "\\end{equation*}\n",
    "\n",
    "De la expresión anterior al tomar la primera igualdad podemos despejar el seno del ángulo dos:   \n",
    "$sin(\\hat{2}) = \\dfrac{h_2sin(\\phi)}{CB}$ y utilizando la ecuación (1) obtenemos que:\n",
    "\\begin{equation}\n",
    "    sin(\\hat{2}) = \\dfrac{h_2W}{x_2CB} \n",
    "\\end{equation}\n",
    "\n",
    "También sabemos que $sin(\\hat{2}) = sin(\\alpha+\\beta) = sin(\\alpha)cos(\\beta)+cos(\\alpha)sin(\\beta)$ y haciendo uso de las ecuaciones (3) y (4) obtenemos que:\n",
    "\\begin{equation}\n",
    "    sin(\\hat{2}) = \\dfrac{h_2}{x_2}\\dfrac{W}{x_1}+\\dfrac{W}{x_2}\\dfrac{h_1}{x_1}= \\dfrac{W(h_1+h_2)}{x_1x_2} \n",
    "\\end{equation}\n",
    "\n",
    "Además, notamos que las ecuaciones (2) y (3) son iguales, de donde encontramos el valor de CB:\n",
    "\\begin{equation*}\n",
    "    \\dfrac{h_1}{x_1} = \\dfrac{H}{CB} \n",
    "\\end{equation*}\n",
    "\n",
    "\\begin{equation}\n",
    "    \\rightarrow CB = \\dfrac{Hx_1}{h_1}\n",
    "\\end{equation}\n",
    "\n",
    "Reemplazamos la ecuación (8) en la ecuación (6) y obtenemos:\n",
    "\n",
    "\\begin{equation}\n",
    "    sin(\\hat{2}) = \\dfrac{h_2Wh_1}{x_2Hx_1} \n",
    "\\end{equation}\n",
    "\n",
    "Por último, las ecuaciones (7) y (9) son iguales, por tanto nos queda:\n",
    "\n",
    "\\begin{equation*}\n",
    "   \\dfrac{W(h_1+h_2)}{x_1x_2} = \\dfrac{h_2Wh_1}{x_2Hx_1}\\\\\n",
    "\\end{equation*}\n",
    "\\begin{equation*}\n",
    "   H(h_1+h_2) - h_1h_2 = 0\n",
    "\\end{equation*}\n",
    "\n",
    "Y usando el hecho de que $h_1 = \\sqrt{x_1^2-w^2}$ y $h_2 = \\sqrt{x_2^2-w^2}$ obtenemos que:\n",
    "\n",
    "\\begin{equation}\n",
    "   f\\left(W\\right) = H\\left(\\sqrt{x_1^2-w^2}+\\sqrt{x_2^2-w^2}\\right) - \\sqrt{\\left(x_1^2-w^2\\right)\\left(x_2^2-w^2\\right)} = 0\n",
    "\\end{equation}\n",
    "\n",
    "Esta última ecuación es justo lo que buscabamos y para verificar que es la expresión correcta realizamos la gráfica con los valores de ejemplo propuesto en el GitHub. "
   ]
  },
  {
   "cell_type": "markdown",
   "id": "c88086e3-8a3c-4807-8721-0e2fe195ac13",
   "metadata": {},
   "source": [
    "![Curva asociada a f(W) cuando $x_1=1.5,x_2=2$ y $H= 0.5$.](grafW.png){width=90%}"
   ]
  },
  {
   "cell_type": "markdown",
   "id": "acd29faf-4857-4097-aefe-d2a6c3798d02",
   "metadata": {},
   "source": [
    "Como se puede observar en la figura, el corte está bastante cerca de 1.302 lo cual demuestra que la ecuación (10) es correcta. Para nuestro problema, sabemos que $x_1$ y $x_2$ no tienen condiciones límites de manera matemáticas mas que $x_1\\leq x_2$, sino únicamente las físicas, es decir, no existen escaleras desmasiado grandes ni demasiado pequeñas. Pero el caso del valor $H$ es diferente pues este si depende de los tamaños de las escaleras, veamos los casos límites cuando el ancho del pasillo es muy pequeño y cuando se aproxima al tamañano de la escalar más pequeña, es decir, cuando tiende a cero y cuando tiende a $x_1$. Para ello, primero operaremos un poco la expresión de la ecuación (10).\n",
    "\n",
    "\\begin{equation*}\n",
    "    H\\left(\\sqrt{x_1^2\\left(1-\\dfrac{w^2}{x_1^2}\\right)}+\\sqrt{x_2^2\\left(1-\\dfrac{w^2}{x_2^2}\\right)}\\right) - \\sqrt{x_1^2\\left(1-\\dfrac{w^2}{x_1^2}\\right)x_2^2\\left(1-\\dfrac{w^2}{x_2^2}\\right)} = 0 \\\\   \n",
    "\\end{equation*}\n",
    "\n",
    "\\begin{equation}\n",
    "    H\\left(x_1\\sqrt{\\left(1-\\dfrac{w^2}{x_1^2}\\right)}+x_2\\sqrt{\\left(1-\\dfrac{w^2}{x_2^2}\\right)}\\right) - x_1x_2\\sqrt{\\left(1-\\dfrac{w^2}{x_1^2}\\right)\\left(1-\\dfrac{w^2}{x_2^2}\\right)} = 0\n",
    "\\end{equation}\n",
    "\n",
    "**a) Caso $W \\rightarrow 0:$**  \n",
    "Como $W\\rightarrow 0$ se tiene que $\\dfrac{W^2}{x_1^2}=\\dfrac{W^2}{x_2^2}=0$, con lo cual nuestra expresión de la ecuación (11) se reduce a:\n",
    "\n",
    "\\begin{equation*}\n",
    "    H(x_1+x_2)-x_1x_2=0\n",
    "\\end{equation*}\n",
    "\n",
    "\\begin{equation}\n",
    "    \\rightarrow H_{max} = \\dfrac{x_1x_2}{x_1+x_2} \n",
    "\\end{equation}\n",
    "Por tanto, logramos determinar el valor máximo que puede tomar la altura medida desde el suelo hasta donde se intersecan las escaleras y vemos que para los datos del Github este valor corresponde a $0.8571$.\n",
    "\n",
    "**b) Caso $W \\rightarrow x_1$:**\n",
    "\n",
    "Como $W \\rightarrow x_1$ se tiene que $\\dfrac{W}{x_1} \\rightarrow 1$, con lo cual nuestra expresión de la ecuación (11) se reduce a:\n",
    "\n",
    "\\begin{equation*}\n",
    "    H\\left(\\sqrt{\\left(x_2^2-w^2\\right)}\\right)=0\n",
    "\\end{equation*}\n",
    "\n",
    "Y puesto que $x_2^2-w^2 \\neq 0$, tenemos que si $W=x_1$ entonces $H_{min} = 0$.\n",
    "\n",
    "Para verificar que lo que decimos es cierto, vamos a realizar la gráfica de la altura en función del ancho del pasillo, esto es: $H = \\dfrac{\\sqrt{\\left(x_1^2-w^2\\right)\\left(x_2^2-w^2\\right)}}{\\left(\\sqrt{x_1^2-w^2}+\\sqrt{x_2^2-w^2}\\right)}$"
   ]
  },
  {
   "cell_type": "markdown",
   "id": "583e01c5-2a2c-4902-bba7-45fed407a5a5",
   "metadata": {},
   "source": [
    "![Curva asociada a H en función de W](grafH.png){width=90%}"
   ]
  },
  {
   "cell_type": "markdown",
   "id": "d420a27e-b1dc-41ea-a8f0-ba6a7751da3a",
   "metadata": {},
   "source": [
    "De aquí podemos observar que la altura alcanza un valor máximo cuando $W$ se acerca a cero y a medida que $W$ crece $H$ disminuye hasta llegar a ser cero cuando $W=x_1$. Por tanto, podemos afirmar que la altura donde se intersecan las escaleras no puede pasar de un valor máximo, y este valor viene dado por la ecuación (12)."
   ]
  },
  {
   "cell_type": "markdown",
   "id": "8fffff5a-12da-491a-92ae-068fc332eebd",
   "metadata": {
    "tags": []
   },
   "source": [
    "\\subsection{3.3. Diagrama de flujo/pseudocódigo}\n",
    "\n",
    "##### Pseudocódigo\n",
    "\n",
    "FUNCIÓN equation(x)  \n",
    "x1 = 1.5  \n",
    "x2 = 2  \n",
    "H = 0.5  \n",
    "RETORNAR H * (RAÍZ_CUADRADA(x1^2 - x^2) + RAÍZ_CUADRADA(x2^2 - x^2))   - RAÍZ_CUADRADA((x1^2 - x^2) * (x2^2 - x^2))  \n",
    "FIN FUNCIÓN  \n",
    "\n",
    "FUNCIÓN sign(x)  \n",
    "   SI x > 0 ENTONCES  \n",
    "     RETORNAR 1  \n",
    "   SINO SI x < 0 ENTONCES  \n",
    "    RETORNAR -1  \n",
    "   SINO  \n",
    "    RETORNAR 0  \n",
    "   FIN SI  \n",
    "FIN FUNCIÓN  \n",
    "\n",
    "FUNCIÓN bisection(a, b, equation, tol, N)  \n",
    "   i = 1  \n",
    "   AFIRMAR a < b, \"a no es menor que b, el intervalo no es válido.\"\n",
    "   AFIRMAR equation(a) * equation(b) < 0, \"La función no cambia de signo en el intervalo.\"  \n",
    "Fa = equation(a)  \n",
    "p = a  # para evitar fallo en i == 0  \n",
    "PARA i DESDE 1 HASTA N+1 HACER  \n",
    "    p = a + (b - a) / 2  \n",
    "    FP = equation(p)  \n",
    "    \n",
    "    SI FP == 0 O (b - a) / 2 < tol ENTONCES  \n",
    "        RETORNAR p, a, b, i  \n",
    "    FIN SI  \n",
    "    \n",
    "    SI sign(Fa) * sign(FP) > 0 ENTONCES  \n",
    "        a = p  \n",
    "        Fa = FP  \n",
    "    SINO  \n",
    "        b = p  \n",
    "    FIN SI  \n",
    "FIN PARA  \n",
    "IMPRIMIR \"Solución no encontrada, número de iteraciones insuficiente para la tolerancia dada.\"    \n",
    "--Ejemplo de implementacion    \n",
    "a = 0  \n",
    "b = 1.5  \n",
    "tol = 10^(-6)  \n",
    "result = bisection(a, b, equation, tol, 35)  \n",
    "IMPRIMIR \"Al utilizar el rango [\", a, \",\", b, \"], en la iteración n°: \", result[3], \" se encontró que la raíz de f(x) dentro de la precisión de \", tol, \" es: \", result[0]"
   ]
  },
  {
   "cell_type": "markdown",
   "id": "c587f9a2-d9cc-4232-992c-a3b6c02d4d83",
   "metadata": {},
   "source": [
    "##### Diagrama de Flujo"
   ]
  },
  {
   "cell_type": "markdown",
   "id": "458a49d3-942e-4e95-8dce-51545c3e0539",
   "metadata": {},
   "source": [
    "\\subsection{3.4. Detalles importantes de la implementación}"
   ]
  },
  {
   "cell_type": "markdown",
   "id": "cfb95cea-949f-4645-873e-a555945d58b2",
   "metadata": {},
   "source": [
    "\\section{Resultados}"
   ]
  },
  {
   "cell_type": "markdown",
   "id": "fe0b2545-2438-4f5d-b571-3f79d3733fa2",
   "metadata": {},
   "source": [
    "\\section{Conclusiones}"
   ]
  },
  {
   "cell_type": "code",
   "execution_count": null,
   "id": "d28ecb0c-4206-4e15-9ada-d74cc55dce31",
   "metadata": {},
   "outputs": [],
   "source": []
  }
 ],
 "metadata": {
  "kernelspec": {
   "display_name": "Python 3 (ipykernel)",
   "language": "python",
   "name": "python3"
  },
  "language_info": {
   "codemirror_mode": {
    "name": "ipython",
    "version": 3
   },
   "file_extension": ".py",
   "mimetype": "text/x-python",
   "name": "python",
   "nbconvert_exporter": "python",
   "pygments_lexer": "ipython3",
   "version": "3.11.7"
  }
 },
 "nbformat": 4,
 "nbformat_minor": 5
}
