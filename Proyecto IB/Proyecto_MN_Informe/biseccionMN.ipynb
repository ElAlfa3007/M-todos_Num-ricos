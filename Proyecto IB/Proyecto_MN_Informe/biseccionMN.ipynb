{
 "cells": [
  {
   "cell_type": "code",
   "execution_count": 37,
   "id": "95a1f723-1465-45c3-b852-f872db59dcd8",
   "metadata": {
    "tags": []
   },
   "outputs": [],
   "source": [
    "import numpy as np\n",
    "x1 = 1.5\n",
    "x2 = 2\n",
    "H = 0.5\n",
    "def equation(x):\n",
    "    return (H*(np.sqrt(x1**2-x**2)+np.sqrt(x2**2-x**2))-np.sqrt((x1**2-x**2)*(x2**2-x**2)))"
   ]
  },
  {
   "cell_type": "code",
   "execution_count": 39,
   "id": "c09d8b14-bbe9-4a3f-82af-8c0dd38a4ac5",
   "metadata": {
    "tags": []
   },
   "outputs": [],
   "source": [
    "from typing import Callable\n",
    "def sign(x: float) -> int:\n",
    "    if x > 0:\n",
    "        return 1\n",
    "    elif x < 0:\n",
    "        return -1\n",
    "    else:\n",
    "        return 0"
   ]
  },
  {
   "cell_type": "code",
   "execution_count": 41,
   "id": "b314c894-cfe3-48bc-817d-21ba5a5d40ab",
   "metadata": {
    "tags": []
   },
   "outputs": [],
   "source": [
    "def bisection(\n",
    "    a: float, b: float, *, equation: Callable[[float], float], tol: float, N: int\n",
    ") -> tuple[float, float, float, int] | None:\n",
    "    i = 1\n",
    "    assert a < b, \"a not lower than b, the interval is not valid.\"\n",
    "\n",
    "    assert (equation(a) * equation(b) < 0), \"The function does not change sign over the interval.\"\n",
    "\n",
    "    Fa = equation(a)\n",
    "    p = a # to avoid crash in i == 0.\n",
    "    for i in range(1,N+1):\n",
    "        p = a + (b - a) / 2\n",
    "        FP = equation(p)\n",
    "        if FP == 0 or (b - a) / 2 < tol:\n",
    "            return p, a, b, i\n",
    "\n",
    "        if sign(Fa) * sign(FP) > 0:\n",
    "            a = p\n",
    "            Fa = FP\n",
    "        else:\n",
    "            b = p\n",
    "    print(\"Solución no encontrada, número de iteraciones insuficiente para la tolerancia dada.\")"
   ]
  },
  {
   "cell_type": "code",
   "execution_count": 45,
   "id": "2e93a3d1-e35c-401d-ba98-4d75389b2851",
   "metadata": {
    "tags": []
   },
   "outputs": [
    {
     "name": "stdout",
     "output_type": "stream",
     "text": [
      "Al utilizar el rango [0,1.5], en la iteración n°: 21 se encontró que la raíz de f(x) dentro de la precisión de 1e-06 es: 1.3016\n"
     ]
    }
   ],
   "source": [
    "a=0\n",
    "b = 1.5\n",
    "tol = 10**(-6)\n",
    "result = bisection(a=a,b=b,equation=equation,tol=tol,N=35)\n",
    "print(\"Al utilizar el rango [\"+str(a)+\",\"+str(b)+\"], en la iteración n°: \"+str(result[3])+\" se encontró que la raíz de f(x)\"+\n",
    "      \" dentro de la precisión de \"+format(tol, \".0e\")+ \" es: \"+format(result[0],\".5\"))"
   ]
  },
  {
   "cell_type": "code",
   "execution_count": null,
   "id": "f27a8122-7efd-46ed-ab7e-9aa97469dfcf",
   "metadata": {},
   "outputs": [],
   "source": []
  }
 ],
 "metadata": {
  "kernelspec": {
   "display_name": "Python 3 (ipykernel)",
   "language": "python",
   "name": "python3"
  },
  "language_info": {
   "codemirror_mode": {
    "name": "ipython",
    "version": 3
   },
   "file_extension": ".py",
   "mimetype": "text/x-python",
   "name": "python",
   "nbconvert_exporter": "python",
   "pygments_lexer": "ipython3",
   "version": "3.11.7"
  }
 },
 "nbformat": 4,
 "nbformat_minor": 5
}
