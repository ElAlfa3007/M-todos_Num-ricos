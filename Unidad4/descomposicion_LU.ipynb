{
 "cells": [
  {
   "cell_type": "markdown",
   "metadata": {},
   "source": [
    "# Descomposición LU"
   ]
  },
  {
   "cell_type": "code",
   "execution_count": 8,
   "metadata": {},
   "outputs": [
    {
     "name": "stdout",
     "output_type": "stream",
     "text": [
      "The autoreload extension is already loaded. To reload it, use:\n",
      "  %reload_ext autoreload\n"
     ]
    }
   ],
   "source": [
    "%load_ext autoreload"
   ]
  },
  {
   "cell_type": "code",
   "execution_count": 30,
   "metadata": {},
   "outputs": [
    {
     "name": "stdout",
     "output_type": "stream",
     "text": [
      "[07-17 07:32:41][INFO] \n",
      "[[ 1.  1.  0.  3.]\n",
      " [ 0. -1. -1. -5.]\n",
      " [ 0. -4. -1. -7.]\n",
      " [ 0.  3.  3.  2.]]\n",
      "[07-17 07:32:41][INFO] \n",
      "[[  1.   1.   0.   3.]\n",
      " [  0.  -1.  -1.  -5.]\n",
      " [  0.   0.   3.  13.]\n",
      " [  0.   0.   0. -13.]]\n",
      "[07-17 07:32:41][INFO] \n",
      "[[  1.   1.   0.   3.]\n",
      " [  0.  -1.  -1.  -5.]\n",
      " [  0.   0.   3.  13.]\n",
      " [  0.   0.   0. -13.]]\n",
      "[07-17 07:32:41][INFO] \n",
      "[[  1.   1.   0.   3.]\n",
      " [  0.  -1.  -1.  -5.]\n",
      " [  0.   0.   3.  13.]\n",
      " [  0.   0.   0. -13.]]\n",
      "[[ 1.  0.  0.  0.]\n",
      " [ 2.  1.  0.  0.]\n",
      " [ 3.  4.  1.  0.]\n",
      " [-1. -3.  0.  1.]]\n"
     ]
    }
   ],
   "source": [
    "%autoreload 2\n",
    "from src import descomposicion_LU, eliminacion_gaussiana\n",
    "\n",
    "A = [[1, 1, 0, 3], [2, 1, -1, 1], [3, -1, -1, 2], [-1, 2, 3, -1]]\n",
    "b = [4,1,-3,4]\n",
    "L, U = descomposicion_LU(A)\n",
    "print(L)"
   ]
  },
  {
   "cell_type": "code",
   "execution_count": 32,
   "metadata": {},
   "outputs": [
    {
     "data": {
      "text/plain": [
       "array([[ 1.,  1.,  0.,  3.],\n",
       "       [ 2.,  1., -1.,  1.],\n",
       "       [ 3., -1., -1.,  2.],\n",
       "       [-1.,  2.,  3., -1.]])"
      ]
     },
     "execution_count": 32,
     "metadata": {},
     "output_type": "execute_result"
    }
   ],
   "source": [
    "# Verificación\n",
    "import numpy as np\n",
    "\n",
    "np.matmul(L, U)"
   ]
  },
  {
   "cell_type": "code",
   "execution_count": 34,
   "metadata": {},
   "outputs": [
    {
     "name": "stdout",
     "output_type": "stream",
     "text": [
      "[07-17 07:32:50][INFO] \n",
      "[[  1   1   0   3   4]\n",
      " [  0  -1  -1  -5  -7]\n",
      " [  0  -4  -1  -7 -15]\n",
      " [  0   3   3   2   8]]\n",
      "[07-17 07:32:50][INFO] \n",
      "[[  1   1   0   3   4]\n",
      " [  0  -1  -1  -5  -7]\n",
      " [  0   0   3  13  13]\n",
      " [  0   0   0 -13 -13]]\n",
      "[07-17 07:32:50][INFO] \n",
      "[[  1   1   0   3   4]\n",
      " [  0  -1  -1  -5  -7]\n",
      " [  0   0   3  13  13]\n",
      " [  0   0   0 -13 -13]]\n"
     ]
    },
    {
     "data": {
      "text/plain": [
       "array([-1.,  2.,  0.,  1.])"
      ]
     },
     "execution_count": 34,
     "metadata": {},
     "output_type": "execute_result"
    }
   ],
   "source": [
    "# Solución, matriz aumentada\n",
    "Ab = [[1, 1, 0, 3, 4], [2, 1, -1, 1, 1], [3, -1, -1, 2, -3], [-1, 2, 3, -1, 4]]\n",
    "eliminacion_gaussiana(Ab)"
   ]
  },
  {
   "cell_type": "code",
   "execution_count": 26,
   "metadata": {},
   "outputs": [
    {
     "name": "stdout",
     "output_type": "stream",
     "text": [
      "[07-17 07:32:24][INFO] \n",
      "[[ 1.  2. -1. -1.]\n",
      " [ 0. -1.  0. -1.]\n",
      " [ 0. -1.  2.  1.]\n",
      " [ 0.  2.  0.  4.]]\n",
      "[07-17 07:32:24][INFO] \n",
      "[[ 1.  2. -1. -1.]\n",
      " [ 0. -1.  0. -1.]\n",
      " [ 0.  0.  2.  2.]\n",
      " [ 0.  0.  0.  2.]]\n",
      "[07-17 07:32:24][INFO] \n",
      "[[ 1.  2. -1. -1.]\n",
      " [ 0. -1.  0. -1.]\n",
      " [ 0.  0.  2.  2.]\n",
      " [ 0.  0.  0.  2.]]\n",
      "[07-17 07:32:24][INFO] \n",
      "[[ 1.  2. -1. -1.]\n",
      " [ 0. -1.  0. -1.]\n",
      " [ 0.  0.  2.  2.]\n",
      " [ 0.  0.  0.  2.]]\n",
      "[[ 1.  0.  0.  0.]\n",
      " [ 2.  1.  0.  0.]\n",
      " [ 1.  1.  1.  0.]\n",
      " [ 1. -2.  0.  1.]]\n"
     ]
    }
   ],
   "source": [
    "%autoreload 2\n",
    "from src import eliminacion_gaussiana, descomposicion_LU\n",
    "A = [[1, 2,-1, -1], [2, 3, -2,  -3], [1, 1, 1, 0], [1, 4, -1, 3]]\n",
    "\n",
    "L, U = descomposicion_LU(A)\n",
    "print(L)"
   ]
  },
  {
   "cell_type": "code",
   "execution_count": 16,
   "metadata": {},
   "outputs": [
    {
     "data": {
      "text/plain": [
       "array([[ 1.,  1.,  0.,  3.],\n",
       "       [ 2.,  1., -1.,  1.],\n",
       "       [ 3., -1., -1.,  2.],\n",
       "       [-1.,  2.,  3., -1.]])"
      ]
     },
     "execution_count": 16,
     "metadata": {},
     "output_type": "execute_result"
    }
   ],
   "source": [
    "np.matmul(L, U)"
   ]
  },
  {
   "cell_type": "code",
   "execution_count": 18,
   "metadata": {},
   "outputs": [
    {
     "name": "stdout",
     "output_type": "stream",
     "text": [
      "[07-17 07:29:28][INFO] Completar!\n"
     ]
    }
   ],
   "source": [
    "%autoreload 2\n",
    "from src import eliminacion_gaussiana, descomposicion_LU, resolver_LU\n",
    "b = [4,1,-3,4]\n",
    "resolver_LU(L, U, b)"
   ]
  },
  {
   "cell_type": "code",
   "execution_count": 92,
   "metadata": {},
   "outputs": [
    {
     "name": "stdout",
     "output_type": "stream",
     "text": [
      "[07-17 08:15:52][INFO] \n",
      "[[ 1.  1. -1.  2.]\n",
      " [ 0.  1.  1.  0.]\n",
      " [ 0.  0.  1.  2.]\n",
      " [ 0.  0. -1.  1.]]\n",
      "[07-17 08:15:52][INFO] \n",
      "[[ 1.  1. -1.  2.]\n",
      " [ 0.  1.  1.  0.]\n",
      " [ 0.  0.  1.  2.]\n",
      " [ 0.  0. -1.  1.]]\n",
      "[07-17 08:15:52][INFO] \n",
      "[[ 1.  1. -1.  2.]\n",
      " [ 0.  1.  1.  0.]\n",
      " [ 0.  0.  1.  2.]\n",
      " [ 0.  0.  0.  3.]]\n",
      "[07-17 08:15:52][INFO] \n",
      "[[ 1.  1. -1.  2.]\n",
      " [ 0.  1.  1.  0.]\n",
      " [ 0.  0.  1.  2.]\n",
      " [ 0.  0.  0.  3.]]\n",
      "[[ 1.  0.  0.  0.]\n",
      " [ 1.  1.  0.  0.]\n",
      " [-1.  0.  1.  0.]\n",
      " [ 0.  0. -1.  1.]]\n",
      "[07-17 08:15:52][INFO] Calculando y\n",
      "[07-17 08:15:52][INFO] y\n",
      "[07-17 08:15:52][INFO] [ 5.  1.  8. 11.]\n",
      "[07-17 08:15:52][INFO] Calculando x\n",
      "[07-17 08:15:52][INFO] x\n",
      "[07-17 08:15:52][INFO] [-2.          0.33333333  0.66666667  3.66666667]\n"
     ]
    }
   ],
   "source": [
    "%autoreload 2\n",
    "from src import descomposicion_LU, eliminacion_gaussiana, resolver_LU\n",
    "\n",
    "A = [[1, 1, -1, 2], [1, 2, 0, 2], [-1, -1, 2, 0], [0, 0, -1, 1]]\n",
    "b = [5, 6, 3, 3]\n",
    "L, U = descomposicion_LU(A)\n",
    "print(L)\n",
    "resolver_LU(L,U,b)"
   ]
  },
  {
   "cell_type": "markdown",
   "metadata": {},
   "source": [
    "--- \n",
    "# PRUEBA 2"
   ]
  },
  {
   "cell_type": "code",
   "execution_count": null,
   "metadata": {},
   "outputs": [],
   "source": []
  }
 ],
 "metadata": {
  "kernelspec": {
   "display_name": "Python 3 (ipykernel)",
   "language": "python",
   "name": "python3"
  },
  "language_info": {
   "codemirror_mode": {
    "name": "ipython",
    "version": 3
   },
   "file_extension": ".py",
   "mimetype": "text/x-python",
   "name": "python",
   "nbconvert_exporter": "python",
   "pygments_lexer": "ipython3",
   "version": "3.11.7"
  }
 },
 "nbformat": 4,
 "nbformat_minor": 4
}
