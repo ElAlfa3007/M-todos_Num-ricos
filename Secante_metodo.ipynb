{
 "cells": [
  {
   "cell_type": "code",
   "execution_count": 106,
   "id": "be2ff1f8-783a-4aa8-b247-c6f395fcf984",
   "metadata": {
    "tags": []
   },
   "outputs": [],
   "source": [
    "def secant_method(f, x0, x1, tol=1e-6, max_iter=100):\n",
    "    x_prev = x0\n",
    "    x_curr = x1\n",
    "    f_prev = f(x_prev)\n",
    "    f_curr = f(x_curr)\n",
    "    iter_count = 0\n",
    "\n",
    "    while abs(f_curr) > tol and iter_count < max_iter:\n",
    "        if iter_count >= 1 and abs(f_prev) > abs(f(x_prev - f_prev * (x_prev - x_curr) / (f_prev - f_curr))):\n",
    "            x_next = x_curr - f_curr * (x_curr - (x_prev - f_prev * (x_prev - x_curr) / (f_prev - f_curr))) / (f_curr - f(x_prev - f_prev * (x_prev - x_curr) / (f_prev - f_curr)))\n",
    "        else:\n",
    "            x_next = x_curr - f_curr * (x_curr - x_prev) / (f_curr - f_prev)\n",
    "\n",
    "        x_prev = x_curr\n",
    "        f_prev = f_curr\n",
    "        x_curr = x_next\n",
    "        f_curr = f(x_next)\n",
    "        print(x_next)\n",
    "        iter_count += 1\n",
    "\n",
    "    return x_curr, iter_count"
   ]
  },
  {
   "cell_type": "code",
   "execution_count": 108,
   "id": "be1c2d63-322c-4b22-a5e1-572e0d3f8f12",
   "metadata": {
    "tags": []
   },
   "outputs": [
    {
     "name": "stdout",
     "output_type": "stream",
     "text": [
      "0.16857551002462356\n",
      "-0.0005005162174552269\n",
      "-3.881075148759461e-13\n"
     ]
    },
    {
     "data": {
      "text/plain": [
       "(-3.881075148759461e-13, 3)"
      ]
     },
     "execution_count": 108,
     "metadata": {},
     "output_type": "execute_result"
    }
   ],
   "source": [
    "import numpy as np\n",
    "\n",
    "f1 = lambda x: np.arctan(x)\n",
    "secant_method(f1,-2,2.5,1e-6,100)"
   ]
  },
  {
   "cell_type": "code",
   "execution_count": 110,
   "id": "be6df070-d9a3-4d6d-8a91-e6ea273b7ddf",
   "metadata": {
    "tags": []
   },
   "outputs": [],
   "source": [
    "def secant_method1(f, x0, x1, tol=1e-6, max_iter=100):\n",
    "    # Initialize variables\n",
    "    x_prev = x0\n",
    "    x_curr = x1\n",
    "    f_prev = f(x_prev)\n",
    "    f_curr = f(x_curr)\n",
    "    iter_count = 0\n",
    "\n",
    "    while abs(f_curr) > tol and iter_count < max_iter:\n",
    "        if abs(f_curr - f_prev) < tol:\n",
    "            print(\"Denominador muy pequeño, el método secante puede no converger.\")\n",
    "            break\n",
    "        # Calculate the next approximation using the secant method formula\n",
    "        x_next = x_curr - f_curr * (x_curr - x_prev) / (f_curr - f_prev)\n",
    "\n",
    "        # Update variables for the next iteration\n",
    "        x_prev = x_curr\n",
    "        f_prev = f_curr\n",
    "        x_curr = x_next\n",
    "        f_curr = f(x_next)\n",
    "\n",
    "        iter_count += 1\n",
    "\n",
    "    return x_curr, iter_count"
   ]
  },
  {
   "cell_type": "code",
   "execution_count": 112,
   "id": "ae3c781f-dc8a-40da-a183-844c55b696c2",
   "metadata": {
    "tags": []
   },
   "outputs": [
    {
     "name": "stdout",
     "output_type": "stream",
     "text": [
      "Llamada i=1 \t x=2.0000000000\t y=-3.0000000000\n",
      "Llamada i=2 \t x=3.0000000000\t y=2.0000000000\n",
      "Llamada i=3 \t x=2.6000000000\t y=-1.1040000000\n",
      "Llamada i=4 \t x=2.7422680412\t y=-0.1958850541\n",
      "Llamada i=5 \t x=2.7729559878\t y=0.0271498910\n",
      "Llamada i=6 \t x=2.7692203651\t y=-0.0005320575\n",
      "Llamada i=7 \t x=2.7692921652\t y=-0.0000013972\n",
      "Llamada i=8 \t x=2.7692923542\t y=0.0000000001\n"
     ]
    },
    {
     "data": {
      "text/plain": [
       "(2.7692923542484045, 6)"
      ]
     },
     "execution_count": 112,
     "metadata": {},
     "output_type": "execute_result"
    }
   ],
   "source": [
    "i=0\n",
    "def func(x):\n",
    "    global i\n",
    "    i += 1\n",
    "    y = x**3 - 3*x**2+x-1\n",
    "    print(f\"Llamada i={i} \\t x={x:.10f}\\t y={y:.10f}\")\n",
    "    return y\n",
    "secant_method1(func, x0=2, x1=3,tol= 1e-6,max_iter= 100)"
   ]
  },
  {
   "cell_type": "code",
   "execution_count": 114,
   "id": "dad8245d-74fb-4b41-ba14-d10702d51555",
   "metadata": {
    "tags": []
   },
   "outputs": [],
   "source": [
    "def secant_method10(f, x0, x1, tol=1e-6, max_iter=100):\n",
    "    # Initialize variables\n",
    "    x_prev = x0\n",
    "    x_curr = x1\n",
    "    f_prev = f(x_prev)\n",
    "    f_curr = f(x_curr)\n",
    "    iter_count = 0\n",
    "\n",
    "    while abs(f_curr) > tol and iter_count < max_iter:\n",
    "        print(f\"Llamada i={iter_count} \\t x={x_curr: .2f} \\t y={f_curr: .2f}\")\n",
    "\n",
    "        # Calculate the next approximation using the secant method formula\n",
    "        x_next = x_curr - f_curr * (x_curr - x_prev) / (f_curr - f_prev)\n",
    "\n",
    "        # Update variables for the next iteration\n",
    "        x_prev = x_curr\n",
    "        f_prev = f_curr  # Actualizar f_prev con el valor de f_curr\n",
    "        x_curr = x_next\n",
    "        f_curr = f(x_next)  # Calcular el nuevo valor de f_curr\n",
    "\n",
    "        iter_count += 1\n",
    "\n",
    "    # Imprimir la última llamada fuera del bucle\n",
    "    print(f\"Llamada i={iter_count} \\t x={x_curr: .2f} \\t y={f_curr: .2f}\")\n",
    "\n",
    "    return x_curr, iter_count\n"
   ]
  },
  {
   "cell_type": "code",
   "execution_count": null,
   "id": "ad335fd4-62d6-4222-98d5-cd00cfa7453b",
   "metadata": {},
   "outputs": [],
   "source": []
  }
 ],
 "metadata": {
  "kernelspec": {
   "display_name": "Python 3 (ipykernel)",
   "language": "python",
   "name": "python3"
  },
  "language_info": {
   "codemirror_mode": {
    "name": "ipython",
    "version": 3
   },
   "file_extension": ".py",
   "mimetype": "text/x-python",
   "name": "python",
   "nbconvert_exporter": "python",
   "pygments_lexer": "ipython3",
   "version": "3.11.7"
  }
 },
 "nbformat": 4,
 "nbformat_minor": 5
}
