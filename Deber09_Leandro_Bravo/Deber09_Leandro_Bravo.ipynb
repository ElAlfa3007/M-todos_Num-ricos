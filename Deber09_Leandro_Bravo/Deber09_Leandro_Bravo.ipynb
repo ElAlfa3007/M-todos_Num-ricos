{
 "cells": [
  {
   "cell_type": "markdown",
   "id": "4d6c1c04-fe69-4957-bce9-3a5c3d834d6b",
   "metadata": {},
   "source": [
    "<p style=\"text-align: right;\">\n",
    " <img src=\"https://encrypted-tbn2.gstatic.com/images?q=tbn:ANd9GcQWwhLsJ3D-RF2wSL1w2Zl8z6DYSAs4vcqmQxYnELC0rwxX06HJ\" alt=\"Logo EPN\" width=\"100\" height=\"100\" style=\"float: right;\">\n",
    "<center><span style=\"font-size: 26px; font-weight: bold;\">ESCUELA POLITÉCNICA NACIONAL</span></center>\n",
    "<center><span style=\"font-size: 26px; font-weight: bold;\">MÉTODOS NUMÉRICOS</span></center>\n",
    "\n",
    "<h3 style=\"font-size: 20px;\"><span style=\"float:left\">Leandro Bravo</span> <span style=\"float:right\">GR1CC</span></h3><br>\n",
    "\n"
   ]
  },
  {
   "cell_type": "markdown",
   "id": "ba650a23-9de8-4d14-bfeb-2fa0040a2de0",
   "metadata": {},
   "source": [
    "## Tarea 09 - Eliminación Gaussiana vs Gauss-Jordan"
   ]
  },
  {
   "cell_type": "code",
   "execution_count": 64,
   "id": "5c949e5a-1b07-4504-883e-98b03f9d531e",
   "metadata": {
    "tags": []
   },
   "outputs": [
    {
     "name": "stdout",
     "output_type": "stream",
     "text": [
      "The autoreload extension is already loaded. To reload it, use:\n",
      "  %reload_ext autoreload\n"
     ]
    }
   ],
   "source": [
    "%load_ext autoreload\n",
    "import numpy as np\n",
    "from src import eliminacion_gaussiana_redondeo,eliminacion_gaussiana, multiplicar_matriz_vector\n",
    "from src import gauss_jordan"
   ]
  },
  {
   "cell_type": "markdown",
   "id": "482d9a7f-d57c-4862-8942-7d7963adb4e0",
   "metadata": {},
   "source": [
    "### Conjunto de Ejercicios"
   ]
  },
  {
   "cell_type": "markdown",
   "id": "20af5b5d-4f4f-404a-acd2-ca8cf6af2a29",
   "metadata": {},
   "source": [
    "1. Para cada uno de los siguientes sistemas lineales, obtenga, de ser posible, una solución con métodos gráficos. \n",
    "Explique los resultados desde un punto de vista geométrico.   \n",
    "a. $x_1 + 2x_2 = 0$,&ensp;&ensp;&ensp;&ensp; b. $x_1 + 2x_2 = 3$, &ensp;&ensp;&ensp;&ensp; c. $2x_1 + x_2 = -1$, &ensp;&ensp;&ensp;&ensp; d. $2x_1 + x_2 + x_3 = 1$,   \n",
    "&nbsp;&nbsp;&nbsp;&nbsp;  $x_1 - x_2 = 0$. &ensp;&ensp;&ensp;&ensp; $-2x_1 - 4x_2 = 6.$ &ensp;&ensp;&ensp;&ensp; &nbsp;&nbsp;&nbsp;&nbsp;  $x_1 + x_2 = 2$, &ensp;&ensp;&ensp;&ensp; &nbsp;&nbsp;&nbsp;&nbsp;  $2x_1 + 4x_2 - x_3 = -1$.  \n",
    "&nbsp;&nbsp;&nbsp;&nbsp;  $x_1 - 3x_2 = 5$"
   ]
  },
  {
   "cell_type": "markdown",
   "id": "15799ae4-b25a-4044-804a-99436f627f1e",
   "metadata": {},
   "source": [
    "2. Utilice la eliminación gaussiana con sustitución hacia atrás y aritmética de redondeo de dos dígitos para resolver \n",
    "los siguientes sistemas lineales. No reordene las ecuaciones. (La solución exacta para cada sistema es $x_1=-1$,$x_2=1,x_3=3$)\n",
    "\n",
    "a. $-x_1+4x_2+x_3 = 8$, &ensp;&ensp;&ensp;&ensp;  &ensp;&ensp;&ensp;&ensp; b. $4x_1+2x_2-x_3 = -5$,  \n",
    "  &nbsp;&nbsp;&nbsp;&nbsp; $\\dfrac{5}{3}x_1+\\dfrac{2}{3}x_2+\\dfrac{2}{3}x_3 = 1$, &ensp;&ensp;&ensp;&ensp; &nbsp;&nbsp;&nbsp;  $\\dfrac{1}{9}x_1+\\dfrac{1}{9}x_2-\\dfrac{1}{3}x_3 = -1$,  \n",
    "  &nbsp;&nbsp;&nbsp;&nbsp; $2x_1+x_2+4x_3=11$. &ensp;&ensp;&ensp;&ensp; &ensp;&ensp;&ensp;&ensp; &nbsp;&nbsp;&nbsp;&nbsp;$x_1+4x_2+2x_3=9$"
   ]
  },
  {
   "cell_type": "code",
   "execution_count": 68,
   "id": "7e6602e6-4e86-40fa-a093-1a040b5d11e2",
   "metadata": {
    "tags": []
   },
   "outputs": [
    {
     "name": "stdout",
     "output_type": "stream",
     "text": [
      "Literal a:\n",
      "\n",
      "[07-28 11:36:49][INFO] \n",
      "[[ 2.00e+00  1.00e+00  4.00e+00  1.10e+01]\n",
      " [ 1.00e-02 -1.60e-01 -2.65e+00 -8.13e+00]\n",
      " [ 0.00e+00  4.50e+00  3.00e+00  1.35e+01]]\n",
      "[07-28 11:36:49][INFO] \n",
      "[[ 2.00e+00  1.00e+00  4.00e+00  1.10e+01]\n",
      " [ 0.00e+00  4.50e+00  3.00e+00  1.35e+01]\n",
      " [ 1.00e-02  2.00e-02 -2.53e+00 -7.59e+00]]\n",
      "La solución es: [-1.  1.  3.]\n",
      "\n",
      "Literal b:\n",
      "\n",
      "[07-28 11:36:49][INFO] \n",
      "[[ 4.000e+00  2.000e+00 -1.000e+00 -5.000e+00]\n",
      " [-1.000e-02  5.000e-02 -3.000e-01 -8.500e-01]\n",
      " [ 0.000e+00  3.500e+00  2.250e+00  1.025e+01]]\n",
      "[07-28 11:36:49][INFO] \n",
      "[[ 4.000e+00  2.000e+00 -1.000e+00 -5.000e+00]\n",
      " [ 0.000e+00  3.500e+00  2.250e+00  1.025e+01]\n",
      " [-1.000e-02  1.000e-02 -3.200e-01 -9.500e-01]]\n",
      "La solución es: [-1.02     1.02     2.96875]\n"
     ]
    }
   ],
   "source": [
    "print(\"Literal a:\\n\")\n",
    "%autoreload 2\n",
    "A = [[-1,4,1,8],[5/3,2/3,2/3,1],[2,1,4,11]]\n",
    "sol_a = eliminacion_gaussiana_redondeo(A)\n",
    "print(\"La solución es:\",sol_a)\n",
    "\n",
    "print(\"\\nLiteral b:\\n\")\n",
    "B = [[4,2,-1,-5],[1/9,1/9,-1/3,-1],[1,4,2,9]]\n",
    "sol_b = eliminacion_gaussiana_redondeo(B)\n",
    "print(\"La solución es:\",sol_b)"
   ]
  },
  {
   "cell_type": "markdown",
   "id": "a2939b62-07b0-4b97-b2d8-71594b550b8c",
   "metadata": {},
   "source": [
    "3. Utilice el algoritmo de eliminación gaussiana para resolver, de ser posible, los siguientes sistemas lineales, y determine si se necesitan intercambios de fila:  \n",
    "\n",
    "a. $x_1 - x_2 + 3x_3 = 2, \\hspace{2cm}$  b. $2x_1 - 1.5x_2 + 3x_3 = 1$,   \n",
    "$\\hspace{0.2cm}3x_1 - 3x_2 + x_3 = -1$,  $\\hspace{2cm}-x_1 + 2x_3 \\hspace{1.5cm}= 3$,   \n",
    " $\\hspace{0.3cm}x_1 + x_2 \\hspace{1.3cm}= 3$.  $\\hspace{2.4cm}4x_1 - 4.5x_2 + 5x_3 = 1$,  \n",
    "c. $2x_1 \\hspace{3cm} = 3, \\hspace{2cm}$ d. $x_1 + x_2 + x_4 \\hspace{1.6cm}= 2$,  \n",
    " $\\hspace{0.6cm}x_1 + 1.5x_2 \\hspace{1.5cm}= 4.5$, $\\hspace{2cm}2x_1 + x_2 - x_3 + x_4 \\hspace{0.6cm}= 1$,  \n",
    " $\\hspace{0.1cm}-3x_2 + 0.5x_3 \\hspace{1.3cm}= -6.6$, $\\hspace{2cm}4x_1 - x_2 - 2x_3 + 2x_4 = 0$,   \n",
    " $\\hspace{0.4cm}2x_1 - 2x_2 + x_3 + x_4 = 0.8$. $\\hspace{2cm}3x_1 - x_2 - x_3 + 2x_4 \\hspace{0.2cm}= -3$.\n"
   ]
  },
  {
   "cell_type": "code",
   "execution_count": 70,
   "id": "977e2b66-a040-4778-b28a-38b30f38230d",
   "metadata": {
    "tags": []
   },
   "outputs": [
    {
     "name": "stdout",
     "output_type": "stream",
     "text": [
      "Literal a:\n",
      "\n",
      "[07-28 11:36:49][INFO] \n",
      "[[ 3.         -3.          1.         -1.        ]\n",
      " [ 0.          0.          2.6666667   2.3333333 ]\n",
      " [ 0.          2.         -0.33333334  3.3333333 ]]\n",
      "[07-28 11:36:49][INFO] \n",
      "[[ 3.         -3.          1.         -1.        ]\n",
      " [ 0.          2.         -0.33333334  3.3333333 ]\n",
      " [ 0.          0.          2.6666667   2.3333333 ]]\n",
      "\n",
      "La solución es: [1.1875     1.8125     0.87499994]\n",
      "\n",
      "Literal b:\n",
      "\n",
      "[07-28 11:36:49][INFO] \n",
      "[[ 4.    -4.5    5.     1.   ]\n",
      " [ 0.    -1.125  3.25   3.25 ]\n",
      " [ 0.     0.75   0.5    0.5  ]]\n",
      "[07-28 11:36:49][INFO] \n",
      "[[ 4.        -4.5        5.         1.       ]\n",
      " [ 0.        -1.125      3.25       3.25     ]\n",
      " [ 0.         0.         2.6666667  2.6666667]]\n",
      "\n",
      "La solución es: [-1. -0.  1.]\n",
      "\n",
      "Literal c:\n",
      "\n",
      "[07-28 11:36:49][INFO] \n",
      "[[ 2.   0.   0.   0.   3. ]\n",
      " [ 0.   1.5  0.   0.   3. ]\n",
      " [ 0.  -3.   0.5  0.  -6.6]\n",
      " [ 0.  -2.   1.   1.  -2.2]]\n",
      "[07-28 11:36:49][INFO] \n",
      "[[ 2.          0.          0.          0.          3.        ]\n",
      " [ 0.         -3.          0.5         0.         -6.6       ]\n",
      " [ 0.          0.          0.25        0.         -0.29999995]\n",
      " [ 0.          0.          0.6666666   1.          2.2       ]]\n",
      "[07-28 11:36:49][INFO] \n",
      "[[ 2.          0.          0.          0.          3.        ]\n",
      " [ 0.         -3.          0.5         0.         -6.6       ]\n",
      " [ 0.          0.          0.6666666   1.          2.2       ]\n",
      " [ 0.          0.          0.         -0.37500003 -1.125     ]]\n",
      "\n",
      "La solución es: [ 1.5        2.        -1.1999997  2.9999998]\n",
      "\n",
      "Literal d:\n",
      "\n",
      "[07-28 11:36:49][INFO] \n",
      "[[ 4.   -1.   -2.    2.    0.  ]\n",
      " [ 0.    1.5   0.    0.    1.  ]\n",
      " [ 0.    1.25  0.5   0.5   2.  ]\n",
      " [ 0.   -0.25  0.5   0.5  -3.  ]]\n",
      "[07-28 11:36:49][INFO] \n",
      "[[ 4.        -1.        -2.         2.         0.       ]\n",
      " [ 0.         1.5        0.         0.         1.       ]\n",
      " [ 0.         0.         0.5        0.5        1.1666667]\n",
      " [ 0.         0.         0.5        0.5       -2.8333333]]\n",
      "[07-28 11:36:49][INFO] \n",
      "[[ 4.        -1.        -2.         2.         0.       ]\n",
      " [ 0.         1.5        0.         0.         1.       ]\n",
      " [ 0.         0.         0.5        0.5        1.1666667]\n",
      " [ 0.         0.         0.         0.        -4.       ]]\n",
      "\n",
      "No existe solución.\n"
     ]
    }
   ],
   "source": [
    "%autoreload 2\n",
    "print(\"Literal a:\\n\")\n",
    "A = [[1,-1,3,2],[3,-3,1,-1],[1,1,0,3]]\n",
    "sol_a = eliminacion_gaussiana(A)\n",
    "print(\"\\nLa solución es:\",sol_a)\n",
    "\n",
    "print(\"\\nLiteral b:\\n\")\n",
    "B = [[2,-1.5,3,1],[-1,0,2,3],[4,-4.5,5,1]]\n",
    "sol_b = eliminacion_gaussiana(B)\n",
    "print(\"\\nLa solución es:\",sol_b)\n",
    "\n",
    "print(\"\\nLiteral c:\\n\")\n",
    "C = [[2,0,0,0,3],[1,1.5,0,0,4.5],[0,-3,0.5,0,-6.6],[2,-2,1,1,0.8]]\n",
    "sol_c = eliminacion_gaussiana(C)\n",
    "print(\"\\nLa solución es:\",sol_c)\n",
    "\n",
    "print(\"\\nLiteral d:\\n\")\n",
    "D = [[1,1,0,1,2],[2,1,-1,1,1],[4,-1,-2,2,0],[3,-1,-1,2,-3]]\n",
    "sol_d = eliminacion_gaussiana(D)"
   ]
  },
  {
   "cell_type": "markdown",
   "id": "6e9179a6-02c8-49c0-be89-982938ccfd12",
   "metadata": {},
   "source": [
    "4. Use el algoritmo de eliminación gaussiana y la aritmética computacional de precisión de 32 bits para resolver los siguientes sistemas lineales.  \n",
    "\n",
    "a. $\\dfrac{1}{4}x_1 + \\dfrac{1}{5}x_2 + \\dfrac{1}{6}x_3 = 9,\\hspace{2cm}$ b. $3.333x_1 + 15920x_2 - 10.333x_3 = 15913$,  \n",
    " $\\hspace{0.3cm}\\dfrac{1}{3}x_1 + \\dfrac{1}{4}x_2 + \\dfrac{1}{5}x_3 = 8$, $\\hspace{2.5cm}2.222x_1 + 16.71x_2 + 9.612x_3 = 28.544$,  \n",
    " $\\hspace{0.3cm}\\dfrac{1}{2}x_1 + x_2 + 2x_3 \\hspace{0.7cm}= 8$. $\\hspace{2.2cm}1.5611x_1 + 5.1791x_2 + 1.6852x_3 = 8.4254$.  \n",
    " \n",
    "c. $x_1 + \\dfrac{1}{2}x_2 + \\dfrac{1}{3}x_3 + \\dfrac{1}{4}x_4 =\\dfrac{1}{6},\\hspace{2cm}$ d. $2x_1 + x_2 - x_3 + x_4 - 3x_5 = 7$,  \n",
    " $\\dfrac{1}{2}x_1 + \\dfrac{1}{3}x_2 + \\dfrac{1}{4}x_3 + \\dfrac{1}{5}x_4 = \\dfrac{1}{7}$, $\\hspace{2.5cm}x_1 + 2x_3 - x_4 + x_5 \\hspace{1cm}= 2$,  \n",
    " $\\dfrac{1}{3}x_1 + \\dfrac{1}{4}x_2 + \\dfrac{1}{5}x_3 + \\dfrac{1}{6}x_4 = \\dfrac{1}{8}$, $\\hspace{2.1cm}-2x_2 - x_3 + x_4 - x_5 \\hspace{1cm} = -5$,  \n",
    " $\\dfrac{1}{4}x_1 + \\dfrac{1}{5}x_2 + \\dfrac{1}{6}x_3 + \\dfrac{1}{7}x_4 = \\dfrac{1}{9}$. $\\hspace{2.4cm}3x_1 + x_2 - 4x_3 + 5x_5 \\hspace{0.5cm} = 6$,\n",
    " $\\hspace{8.5cm}x_1 - x_2 - x_3 - x_4 + x_5 = -3$"
   ]
  },
  {
   "cell_type": "code",
   "execution_count": 72,
   "id": "06ce4b67-ce3e-4c01-9b26-99b4e698e91a",
   "metadata": {
    "tags": []
   },
   "outputs": [
    {
     "name": "stdout",
     "output_type": "stream",
     "text": [
      "Literal a:\n",
      "\n",
      "[07-28 11:36:50][INFO] \n",
      "[[ 0.5        1.         2.         8.       ]\n",
      " [ 0.        -0.4166667 -1.1333333  2.6666665]\n",
      " [ 0.        -0.3       -0.8333333  5.       ]]\n",
      "[07-28 11:36:50][INFO] \n",
      "[[ 0.5         1.          2.          8.        ]\n",
      " [ 0.         -0.4166667  -1.1333333   2.6666665 ]\n",
      " [ 0.          0.         -0.01733333  3.0800002 ]]\n",
      "\n",
      "La solución es: [-227.07697  476.92322 -177.69237]\n",
      "\n",
      "Literal b:\n",
      "\n",
      "[07-28 11:36:50][INFO] \n",
      "[[ 3.3329999e+00  1.5920000e+04 -1.0333000e+01  1.5913000e+04]\n",
      " [ 0.0000000e+00 -1.0596623e+04  1.6500668e+01 -1.0580122e+04]\n",
      " [ 0.0000000e+00 -7.4513804e+03  6.5249376e+00 -7.4448555e+03]]\n",
      "[07-28 11:36:50][INFO] \n",
      "[[ 3.3329999e+00  1.5920000e+04 -1.0333000e+01  1.5913000e+04]\n",
      " [ 0.0000000e+00 -1.0596623e+04  1.6500668e+01 -1.0580122e+04]\n",
      " [ 0.0000000e+00  0.0000000e+00 -5.0780745e+00 -5.0786133e+00]]\n",
      "\n",
      "La solución es: [0.9997431 1.0000001 1.0001061]\n",
      "\n",
      "Literal c:\n",
      "\n",
      "[07-28 11:36:50][INFO] \n",
      "[[1.         0.5        0.33333334 0.25       0.16666667]\n",
      " [0.         0.08333334 0.08333333 0.075      0.05952381]\n",
      " [0.         0.08333333 0.08888888 0.08333334 0.06944444]\n",
      " [0.         0.075      0.08333334 0.08035715 0.06944445]]\n",
      "[07-28 11:36:50][INFO] \n",
      "[[1.         0.5        0.33333334 0.25       0.16666667]\n",
      " [0.         0.08333334 0.08333333 0.075      0.05952381]\n",
      " [0.         0.         0.00555557 0.00833335 0.00992064]\n",
      " [0.         0.         0.00833335 0.01285715 0.01587302]]\n",
      "[07-28 11:36:50][INFO] \n",
      "[[ 1.0000000e+00  5.0000000e-01  3.3333334e-01  2.5000000e-01\n",
      "   1.6666667e-01]\n",
      " [ 0.0000000e+00  8.3333343e-02  8.3333328e-02  7.5000003e-02\n",
      "   5.9523813e-02]\n",
      " [ 0.0000000e+00  0.0000000e+00  8.3333477e-03  1.2857154e-02\n",
      "   1.5873022e-02]\n",
      " [ 0.0000000e+00  0.0000000e+00  0.0000000e+00 -2.3809634e-04\n",
      "  -6.6138618e-04]]\n",
      "\n",
      "La solución es: [-0.03174745  0.59525675 -2.3809996   2.7778091 ]\n",
      "\n",
      "Literal d:\n",
      "\n",
      "[07-28 11:36:50][INFO] \n",
      "[[ 3.          1.         -4.          0.          5.          6.        ]\n",
      " [ 0.         -0.33333334  3.3333335  -1.         -0.66666675  0.        ]\n",
      " [ 0.         -2.         -1.          1.         -1.         -5.        ]\n",
      " [ 0.          0.3333333   1.6666667   1.         -6.3333335   3.        ]\n",
      " [ 0.         -1.3333334   0.33333337 -1.         -0.66666675 -5.        ]]\n",
      "[07-28 11:36:50][INFO] \n",
      "[[ 3.0000000e+00  1.0000000e+00 -4.0000000e+00  0.0000000e+00\n",
      "   5.0000000e+00  6.0000000e+00]\n",
      " [ 0.0000000e+00 -2.0000000e+00 -1.0000000e+00  1.0000000e+00\n",
      "  -1.0000000e+00 -5.0000000e+00]\n",
      " [ 0.0000000e+00  0.0000000e+00  3.5000002e+00 -1.1666666e+00\n",
      "  -5.0000006e-01  8.3333337e-01]\n",
      " [ 0.0000000e+00  0.0000000e+00  1.5000001e+00  1.1666666e+00\n",
      "  -6.5000000e+00  2.1666667e+00]\n",
      " [ 0.0000000e+00  0.0000000e+00  1.0000000e+00 -1.6666667e+00\n",
      "  -5.9604645e-08 -1.6666665e+00]]\n",
      "[07-28 11:36:50][INFO] \n",
      "[[ 3.          1.         -4.          0.          5.          6.        ]\n",
      " [ 0.         -2.         -1.          1.         -1.         -5.        ]\n",
      " [ 0.          0.          3.5000002  -1.1666666  -0.50000006  0.8333334 ]\n",
      " [ 0.          0.          0.          1.6666666  -6.285714    1.8095238 ]\n",
      " [ 0.          0.          0.         -1.3333335   0.14285709 -1.9047618 ]]\n",
      "[07-28 11:36:50][INFO] \n",
      "[[ 3.          1.         -4.          0.          5.          6.        ]\n",
      " [ 0.         -2.         -1.          1.         -1.         -5.        ]\n",
      " [ 0.          0.          3.5000002  -1.1666666  -0.50000006  0.8333334 ]\n",
      " [ 0.          0.          0.          1.6666666  -6.285714    1.8095238 ]\n",
      " [ 0.          0.          0.          0.         -4.885715   -0.45714247]]\n",
      "\n",
      "La solución es: [1.8830409  2.8070176  0.730994   1.4385961  0.09356716]\n"
     ]
    }
   ],
   "source": [
    "%autoreload 2\n",
    "print(\"Literal a:\\n\")\n",
    "A = [[1/4,1/5,1/6,9],[1/3,1/4,1/5,8],[1/2,1,2,8]]\n",
    "sol_a = eliminacion_gaussiana(A)\n",
    "print(\"\\nLa solución es:\",sol_a)\n",
    "\n",
    "print(\"\\nLiteral b:\\n\")\n",
    "B = [[3.333,15920,-10.333,15913],[2.222,16.71,9.612,28.544],[1.5611,5.1791,1.6852,8.4254]]\n",
    "sol_b = eliminacion_gaussiana(B)\n",
    "print(\"\\nLa solución es:\",sol_b)\n",
    "\n",
    "print(\"\\nLiteral c:\\n\")\n",
    "C = [[1,1/2,1/3,1/4,1/6],[1/2,1/3,1/4,1/5,1/7],[1/3,1/4,1/5,1/6,1/8],[1/4,1/5,1/6,1/7,1/9]]\n",
    "sol_c = eliminacion_gaussiana(C)\n",
    "print(\"\\nLa solución es:\",sol_c)\n",
    "\n",
    "print(\"\\nLiteral d:\\n\")\n",
    "D = [[2,1,-1,1,-3,7],[1,0,2,-1,1,2],[0,-2,-1,1,-1,-5],[3,1,-4,0,5,6],[1,-1,-1,-1,1,-3]]\n",
    "sol_d = eliminacion_gaussiana(D)\n",
    "print(\"\\nLa solución es:\",sol_d)"
   ]
  },
  {
   "cell_type": "markdown",
   "id": "11817cd0-ad8a-46df-ac77-4e033f70b1c7",
   "metadata": {},
   "source": [
    "5. Dado el sistema lineal:  \n",
    "\n",
    "$$x_1 - x_2 + \\alpha x_3 = -2,$$\n",
    "$$-x_1 + 2x_2 - \\alpha x_3 = 3,$$\n",
    "$$\\alpha x_1 + x_2 + x_3 = 2$$. \n",
    "\n",
    "\\textbf{a.} Encuentre el valor(es) de $\\alpha$ para los que el sistema no tiene soluciones.  \n",
    "\\textbf{b.} Encuentre el valor(es) de $\\alpha$ para los que el sistema tiene un número infinito de soluciones.  \n",
    "\\textbf{c.} Suponga que existe una única solución para una a determinada, encuentre la solución.  "
   ]
  },
  {
   "attachments": {
    "0e750f3c-2fa0-4469-a414-315b9e42a360.png": {
     "image/png": "[encoded data removed]"
    },
    "b8d9d06e-5a02-476f-92a5-8a9cc9537d79.png": {
     "image/png": "[encoded data removed]"
    },
    "c67faf34-95bd-4136-a53d-7daa5715044e.png": {
     "image/png": "[encoded data removed]"
    }
   },
   "cell_type": "markdown",
   "id": "c7bd5936-a8a8-4c07-8d31-257298ad91df",
   "metadata": {},
   "source": [
    "### Resolución del sistema\n",
    "![image.png](attachment:b8d9d06e-5a02-476f-92a5-8a9cc9537d79.png)   \n",
    "\n",
    "#### 1. a = 1;\n",
    "![image.png](attachment:c67faf34-95bd-4136-a53d-7daa5715044e.png)   \n",
    "\n",
    "#### 2. a = -1;\n",
    "![image.png](attachment:0e750f3c-2fa0-4469-a414-315b9e42a360.png)"
   ]
  },
  {
   "cell_type": "markdown",
   "id": "1c8a8c06-dc2a-4066-89af-ea28cfa7d7e1",
   "metadata": {},
   "source": [
    "### Ejercicios Aplicados"
   ]
  },
  {
   "cell_type": "markdown",
   "id": "16ccd050-7831-4a28-8c4a-bbc6bec7636d",
   "metadata": {},
   "source": [
    "6. Suponga que en un sistema biológico existen n especies de animales y m fuentes de alimento. Si $x_j$ representa la población de las j-ésimas especies, para cada $j = 1,2,\\cdots$; $b_i$; representa el suministro diario disponible del i-ésimo alimento y $a_{ij}$ representa la cantidad del i-ésimo alimento.\n",
    "\n",
    "$$a_{11}x_1 + a_{12}x_2 + \\cdots + a_{1n}x_n = b_1,$$  \n",
    "$$a_{21}x_1 + a_{22}x_2 + \\cdots + a_{2n}x_n = b_2,$$  \n",
    "$$\\vdots \\hspace{1.5cm} \\vdots \\hspace{2.2cm} \\vdots \\hspace{1cm} \\vdots  $$\n",
    "$$a_{m1}x_1 + a_{m2}x_2 + \\cdots + a_{mn}x_n = b_m,$$  \n",
    "\n",
    "representa un equilibrio donde existe un suministro diario de alimento para cumplir con precisión con el promedio diario de consumo de cada especie.\n",
    "\n",
    "a. Si  \n",
    "\n",
    "\\begin{equation*}\n",
    "    A = [a_{ij}] =\n",
    "    \\begin{bmatrix}\n",
    "        1 & 2 & 0 & 3 \\\\\n",
    "        1 & 0 & 2 & 2 \\\\\n",
    "        0 & 0 & 1 & 1\n",
    "    \\end{bmatrix}\n",
    "\\end{equation*}\n",
    "\n",
    "$ \\textbf{x} = (x_j)=[1000, 500, 350, 400],$ y $\\textbf{b}= (b_i) = [3500, 2700, 900]$. ¿Existe suficiente alimento para satisfacer el consumo promedio diario?  \n",
    "b. ¿Cuál es el número máximo de animales de cada especie que se podría agregar de forma individual al sistema con el suministro de alimento que cumpla con el consumo?   \n",
    "c. Si la especie 1 se extingue, ¿qué cantidad de incremento individual de las especies restantes se podría soportar?   \n",
    "d. Si la especie 2 se extingue, ¿qué cantidad de incremento individual de las especies restantes se podría soportar?"
   ]
  },
  {
   "cell_type": "markdown",
   "id": "8c73ca8f-778b-4e95-a511-31456e1e48ca",
   "metadata": {},
   "source": [
    "a. Para saber si existe suficiente alimento para satisfacer el consumo promedio diario, debemos multiplicar la matriz A por el número de especies x."
   ]
  },
  {
   "cell_type": "code",
   "execution_count": 78,
   "id": "47425fe9-9d88-44a9-b7cb-28ea50d8a86c",
   "metadata": {
    "tags": []
   },
   "outputs": [
    {
     "name": "stdout",
     "output_type": "stream",
     "text": [
      "El vector de consumo promedio diario es de: [3200. 2500.  750.]\n"
     ]
    }
   ],
   "source": [
    "%autoreload 2\n",
    "A = np.array([[1,2,0,3],[1,0,2,2],[0,0,1,1]])\n",
    "x = np.array([1000,500,350,400])\n",
    "\n",
    "b_obtenido =  multiplicar_matriz_vector(A,x)\n",
    "print(\"El vector de consumo promedio diario es de:\",b_obtenido)"
   ]
  },
  {
   "cell_type": "markdown",
   "id": "3f966c8b-8ebd-4cd6-bb11-05ad3380a62d",
   "metadata": {},
   "source": [
    "Por tanto, sí existe suficiente alimento para satisfacer el consumo promedio diario para las diferentes poblaciones de animales."
   ]
  },
  {
   "cell_type": "markdown",
   "id": "3844ab0c-0b7a-4432-895f-fba182d0edbd",
   "metadata": {},
   "source": [
    "b. Para saber el número máximo de animales de cada especie que se podría agregar de forma individual, es necesario hallar las soluciones usando A y b."
   ]
  },
  {
   "cell_type": "code",
   "execution_count": 81,
   "id": "99bb55cb-f35c-4e56-b9f6-f8f67a18222b",
   "metadata": {
    "tags": []
   },
   "outputs": [
    {
     "name": "stdout",
     "output_type": "stream",
     "text": [
      "El vector de consumo promedio diario es de: [3500. 2697.  846.]\n"
     ]
    }
   ],
   "source": [
    "%autoreload 2\n",
    "A = np.array([[1,2,0,3],[1,0,2,2],[0,0,1,1]])\n",
    "x = np.array([1005,511,355,491])\n",
    "\n",
    "b_obtenido =  multiplicar_matriz_vector(A,x)\n",
    "print(\"El vector de consumo promedio diario es de:\",b_obtenido)"
   ]
  },
  {
   "cell_type": "markdown",
   "id": "b0c8fc38-73d6-439f-a21d-243373409490",
   "metadata": {},
   "source": [
    "Por tanto, para que el alimento alcancé para todas las especies estás pueden crecer de la siguiente manera:  \n",
    "- Especie 1: Crece máximo en 5 individuos.  \n",
    "- Especie 2: Crece máximo en 11 individios.  \n",
    "- Especie 3: Crece máximo en 5 individuos.  \n",
    "- Especie 4: Crece máximo en 91 individuos."
   ]
  },
  {
   "cell_type": "markdown",
   "id": "2aa0c03e-d29d-491a-acf2-763d87eb7ca8",
   "metadata": {},
   "source": [
    "c. Que la especie uno se extinga nos quiere decir que $x_1=0$. Con lo que nos queda el siguiente sistema de ecuaciones:\n",
    "\n",
    "\\begin{eqnarray} 2x_2 + 3x_4 = 3500 \\\\ 2x_3 + 2x_4 = 2700 \\\\ x_3+x_4=900 \\end{eqnarray} "
   ]
  },
  {
   "cell_type": "code",
   "execution_count": 84,
   "id": "317848a9-c916-4704-8cbd-18aca636d960",
   "metadata": {
    "tags": []
   },
   "outputs": [
    {
     "name": "stdout",
     "output_type": "stream",
     "text": [
      "El vector de consumo promedio diario es de: [3500. 1800.  900.]\n"
     ]
    }
   ],
   "source": [
    "%autoreload 2\n",
    "A = np.array([[1,2,0,3],[1,0,2,2],[0,0,1,1]])\n",
    "x = np.array([0,1000,400,500])\n",
    "\n",
    "b_obtenido =  multiplicar_matriz_vector(A,x)\n",
    "print(\"El vector de consumo promedio diario es de:\",b_obtenido)"
   ]
  },
  {
   "cell_type": "markdown",
   "id": "6a9a4f11-693e-4772-9ce2-a8a029221058",
   "metadata": {},
   "source": [
    "Por tanto, si la especie 1 se extingue, las otras especies tener los siguientes incrementos de su población:  \n",
    "- Especie 2: Se incrementa en 500.  \n",
    "- Especie 3: Se incrementa en 50.  \n",
    "- Especie 4: Se incrementa en 100."
   ]
  },
  {
   "cell_type": "markdown",
   "id": "2ff99835-ef0e-4652-9e6c-2446fe21d301",
   "metadata": {},
   "source": [
    "d. Que la especie dos se extinga nos quiere decir que $x_2=0$. Con lo que nos queda el siguiente sistema de ecuaciones:\n",
    "\n",
    "\\begin{eqnarray} x_1 + 3x_4 = 3500 \\\\ x_1 + 2x_4 = 2700 \\\\ x_3+x_4=900 \\end{eqnarray}"
   ]
  },
  {
   "cell_type": "code",
   "execution_count": 87,
   "id": "e6b3693b-4766-4d54-a8bf-07319984eb97",
   "metadata": {
    "tags": []
   },
   "outputs": [
    {
     "name": "stdout",
     "output_type": "stream",
     "text": [
      "El vector de consumo promedio diario es de: [2370. 2700.  810.]\n"
     ]
    }
   ],
   "source": [
    "%autoreload 2\n",
    "A = np.array([[1,2,0,3],[1,0,2,2],[0,0,1,1]])\n",
    "x = np.array([1080,0,380,430])\n",
    "\n",
    "b_obtenido =  multiplicar_matriz_vector(A,x)\n",
    "print(\"El vector de consumo promedio diario es de:\",b_obtenido)"
   ]
  },
  {
   "cell_type": "markdown",
   "id": "db171912-77f3-49db-9f8d-330d44ea0dda",
   "metadata": {},
   "source": [
    "Por tanto, si la especie 2 se extingue, las otras especies tener los siguientes incrementos de su población:  \n",
    "- Especie 1: Se incrementa en 80.  \n",
    "- Especie 3: Se incrementa en 30.  \n",
    "- Especie 4: Se incrementa en 30.\n",
    "\n",
    "Estos incrementos son máximos ya que si se varían un poco, el alimento dispuesto para las especies restante no es suficiente."
   ]
  },
  {
   "cell_type": "markdown",
   "id": "d9b6ced6-10d0-4a08-979b-2224f2d516f3",
   "metadata": {},
   "source": [
    "### Ejercicios Teóricos"
   ]
  },
  {
   "cell_type": "markdown",
   "id": "83898e43-bdae-475a-b6a7-32825f095562",
   "metadata": {},
   "source": [
    "7. Repita el ejercicio 4 con el método Gauss-Jordan"
   ]
  },
  {
   "cell_type": "code",
   "execution_count": 91,
   "id": "30ee32e6-2121-4780-a87c-277f05316295",
   "metadata": {},
   "outputs": [
    {
     "name": "stdout",
     "output_type": "stream",
     "text": [
      "Literal a:\n",
      "\n",
      "[07-28 11:36:52][INFO] \n",
      "[[ 1.0000000e+00  8.0000001e-01  6.6666669e-01  3.6000000e+01]\n",
      " [ 0.0000000e+00 -1.6666681e-02 -2.2222236e-02 -4.0000000e+00]\n",
      " [ 0.0000000e+00  6.0000002e-01  1.6666666e+00 -1.0000000e+01]]\n",
      "[07-28 11:36:52][INFO] \n",
      "[[   1.           0.          -0.3999998 -155.99985  ]\n",
      " [  -0.           1.           1.333333   239.9998   ]\n",
      " [   0.           0.           0.8666668 -153.9999   ]]\n",
      "[07-28 11:36:52][INFO] \n",
      "[[   1.         0.         0.      -227.07668]\n",
      " [  -0.         1.         0.       476.9226 ]\n",
      " [   0.         0.         1.      -177.69215]]\n",
      "\n",
      "La solución es: [-227.07668  476.9226  -177.69215]\n",
      "\n",
      "Literal b:\n",
      "\n",
      "[07-28 11:36:52][INFO] \n",
      "[[ 1.0000000e+00  3.3175967e+00  1.0794952e+00  5.3970919e+00]\n",
      " [ 0.0000000e+00  9.3382998e+00  7.2133622e+00  1.6551662e+01]\n",
      " [ 0.0000000e+00  1.5908942e+04 -1.3930958e+01  1.5895012e+04]]\n",
      "[07-28 11:36:52][INFO] \n",
      "[[ 1.0000000e+00  0.0000000e+00 -1.4831798e+00 -4.8318005e-01]\n",
      " [ 0.0000000e+00  1.0000000e+00  7.7244920e-01  1.7724493e+00]\n",
      " [ 0.0000000e+00  0.0000000e+00 -1.2302780e+04 -1.2302781e+04]]\n",
      "[07-28 11:36:52][INFO] \n",
      "[[ 1.          0.          0.          0.9999999 ]\n",
      " [ 0.          1.          0.          0.99999994]\n",
      " [-0.         -0.          1.          1.0000001 ]]\n",
      "\n",
      "La solución es: [0.9999999  0.99999994 1.0000001 ]\n",
      "\n",
      "Literal c:\n",
      "\n",
      "[07-28 11:36:52][INFO] \n",
      "[[ 1.          0.8         0.6666667   0.5714286   0.44444445]\n",
      " [ 0.         -0.06666666 -0.08333334 -0.0857143  -0.07936507]\n",
      " [ 0.         -0.01666668 -0.02222224 -0.02380954 -0.02314815]\n",
      " [ 0.         -0.3        -0.33333334 -0.3214286  -0.2777778 ]]\n",
      "[07-28 11:36:52][INFO] \n",
      "[[ 1.          0.         -0.3999998  -0.57142836 -0.6666658 ]\n",
      " [-0.          1.          1.333333    1.4285711   1.3888878 ]\n",
      " [ 0.          0.          0.00555552  0.00952377  0.01322744]\n",
      " [ 0.          0.          0.06666657  0.10714275  0.13888857]]\n",
      "[07-28 11:36:52][INFO] \n",
      "[[ 1.          0.          0.          0.1142875   0.28571594]\n",
      " [-0.          1.          0.         -0.857149   -1.7857188 ]\n",
      " [ 0.          0.          1.          1.7142905   2.3809555 ]\n",
      " [ 0.          0.          0.         -0.00714312 -0.01984157]]\n",
      "[07-28 11:36:52][INFO] \n",
      "[[ 1.          0.          0.          0.         -0.03174219]\n",
      " [-0.          1.          0.          0.          0.5951971 ]\n",
      " [ 0.          0.          1.          0.         -2.3808553 ]\n",
      " [-0.         -0.         -0.          1.          2.7777152 ]]\n",
      "\n",
      "La solución es: [-0.03174219  0.5951971  -2.3808553   2.7777152 ]\n",
      "\n",
      "Literal d:\n",
      "\n",
      "[07-28 11:36:52][INFO] \n",
      "[[  1.   0.   2.  -1.   1.   2.]\n",
      " [  0.   1.  -5.   3.  -5.   3.]\n",
      " [  0.  -2.  -1.   1.  -1.  -5.]\n",
      " [  0.   1. -10.   3.   2.   0.]\n",
      " [  0.  -1.  -3.   0.   0.  -5.]]\n",
      "[07-28 11:36:52][INFO] \n",
      "[[  1.   0.   2.  -1.   1.   2.]\n",
      " [  0.   1.  -5.   3.  -5.   3.]\n",
      " [  0.   0. -11.   7. -11.   1.]\n",
      " [  0.   0.  -5.   0.   7.  -3.]\n",
      " [  0.   0.  -8.   3.  -5.  -2.]]\n",
      "[07-28 11:36:52][INFO] \n",
      "[[  1.           0.           0.          -1.           3.8\n",
      "    0.79999995]\n",
      " [  0.           1.           0.           3.         -12.\n",
      "    6.        ]\n",
      " [ -0.          -0.           1.          -0.          -1.4\n",
      "    0.6       ]\n",
      " [  0.           0.           0.           7.         -26.4\n",
      "    7.6000004 ]\n",
      " [  0.           0.           0.           3.         -16.2\n",
      "    2.8000002 ]]\n",
      "[07-28 11:36:52][INFO] \n",
      "[[ 1.         0.         0.         0.        -1.6000001  1.7333333]\n",
      " [ 0.         1.         0.         0.         4.200001   3.1999998]\n",
      " [ 0.         0.         1.         0.        -1.4        0.6      ]\n",
      " [ 0.         0.         0.         1.        -5.4        0.9333334]\n",
      " [ 0.         0.         0.         0.        11.4        1.0666666]]\n",
      "[07-28 11:36:52][INFO] \n",
      "[[1.         0.         0.         0.         0.         1.8830409 ]\n",
      " [0.         1.         0.         0.         0.         2.8070173 ]\n",
      " [0.         0.         1.         0.         0.         0.73099416]\n",
      " [0.         0.         0.         1.         0.         1.4385965 ]\n",
      " [0.         0.         0.         0.         1.         0.09356725]]\n",
      "\n",
      "La solución es: [1.8830409  2.8070173  0.73099416 1.4385965  0.09356725]\n"
     ]
    }
   ],
   "source": [
    "%autoreload 2\n",
    "print(\"Literal a:\\n\")\n",
    "A = [[1/4,1/5,1/6,9],[1/3,1/4,1/5,8],[1/2,1,2,8]]\n",
    "sol_a = gauss_jordan(A)\n",
    "print(\"\\nLa solución es:\",sol_a)\n",
    "\n",
    "print(\"\\nLiteral b:\\n\")\n",
    "B = [[3.333,15920,-10.333,15913],[2.222,16.71,9.612,28.544],[1.5611,5.1791,1.6852,8.4254]]\n",
    "sol_b = gauss_jordan(B)\n",
    "print(\"\\nLa solución es:\",sol_b)\n",
    "\n",
    "print(\"\\nLiteral c:\\n\")\n",
    "C = [[1,1/2,1/3,1/4,1/6],[1/2,1/3,1/4,1/5,1/7],[1/3,1/4,1/5,1/6,1/8],[1/4,1/5,1/6,1/7,1/9]]\n",
    "sol_c = gauss_jordan(C)\n",
    "print(\"\\nLa solución es:\",sol_c)\n",
    "\n",
    "print(\"\\nLiteral d:\\n\")\n",
    "D = [[2,1,-1,1,-3,7],[1,0,2,-1,1,2],[0,-2,-1,1,-1,-5],[3,1,-4,0,5,6],[1,-1,-1,-1,1,-3]]\n",
    "sol_d = gauss_jordan(D)\n",
    "print(\"\\nLa solución es:\",sol_d)"
   ]
  },
  {
   "cell_type": "markdown",
   "id": "ff692782-c32c-440b-8ffd-8ec96222a22d",
   "metadata": {},
   "source": [
    "### Link del repositorio:"
   ]
  },
  {
   "cell_type": "markdown",
   "id": "e9e23c31-e35d-4ce7-a07b-c0518f10b36f",
   "metadata": {},
   "source": [
    "https://github.com/ElAlfa3007/M-todos_Num-ricos.git"
   ]
  }
 ],
 "metadata": {
  "kernelspec": {
   "display_name": "Python 3 (ipykernel)",
   "language": "python",
   "name": "python3"
  },
  "language_info": {
   "codemirror_mode": {
    "name": "ipython",
    "version": 3
   },
   "file_extension": ".py",
   "mimetype": "text/x-python",
   "name": "python",
   "nbconvert_exporter": "python",
   "pygments_lexer": "ipython3",
   "version": "3.11.7"
  }
 },
 "nbformat": 4,
 "nbformat_minor": 5
}
