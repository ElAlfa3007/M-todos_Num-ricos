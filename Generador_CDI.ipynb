{
 "cells": [
  {
   "cell_type": "code",
   "execution_count": 7,
   "id": "df80d908-205d-417d-88a7-6433c0dfea02",
   "metadata": {
    "tags": []
   },
   "outputs": [
    {
     "name": "stdin",
     "output_type": "stream",
     "text": [
      "¿Cuántas cédulas desea generar?  10\n"
     ]
    },
    {
     "name": "stdout",
     "output_type": "stream",
     "text": [
      "0641268735\n",
      "0744872599\n",
      "0326066305\n",
      "1919271351\n",
      "1212995201\n",
      "0647478684\n",
      "1812423893\n",
      "1719471730\n",
      "1035010410\n",
      "0246666903\n"
     ]
    }
   ],
   "source": [
    "import random\n",
    "\n",
    "random.seed()\n",
    "\n",
    "# Función para generar un número aleatorio de verificación válido\n",
    "def generar_verificador(cedula_sin_verificador):\n",
    "    suma_impar = 0\n",
    "    for i in range(0, 9, 2):\n",
    "        multiplicacion = int(cedula_sin_verificador[i]) * 2\n",
    "        suma_impar += multiplicacion if multiplicacion <= 9 else multiplicacion - 9\n",
    "    suma_par = sum(map(int, cedula_sin_verificador[1::2]))\n",
    "    resultado = 10 - ((suma_impar + suma_par) % 10)\n",
    "    return resultado if resultado < 10 else 0\n",
    "\n",
    "# Pedir cantidad de cédulas a generar\n",
    "cantidad = int(input(\"¿Cuántas cédulas desea generar? \"))\n",
    "\n",
    "# Generar cédulas válidas\n",
    "for i in range(cantidad):\n",
    "    # Generar provincia, tercer dígito y secuencial\n",
    "    provincia = str(random.randint(1, 24)).zfill(2)\n",
    "    tercer_digito = str(random.randint(0, 5))\n",
    "    secuencial = str(random.randint(1, 999999)).zfill(6)\n",
    "    cedula_sin_verificador = provincia + tercer_digito + secuencial\n",
    "\n",
    "    # Generar verificador\n",
    "    verificador = generar_verificador(cedula_sin_verificador)\n",
    "\n",
    "    # Mostrar cédula generada\n",
    "    cedula = cedula_sin_verificador + str(verificador)\n",
    "    print(cedula)\n",
    "    "
   ]
  },
  {
   "cell_type": "code",
   "execution_count": null,
   "id": "0cb32c9e-2141-42c7-a1c5-f8b227b7c859",
   "metadata": {},
   "outputs": [],
   "source": []
  }
 ],
 "metadata": {
  "kernelspec": {
   "display_name": "Python 3 (ipykernel)",
   "language": "python",
   "name": "python3"
  },
  "language_info": {
   "codemirror_mode": {
    "name": "ipython",
    "version": 3
   },
   "file_extension": ".py",
   "mimetype": "text/x-python",
   "name": "python",
   "nbconvert_exporter": "python",
   "pygments_lexer": "ipython3",
   "version": "3.11.7"
  }
 },
 "nbformat": 4,
 "nbformat_minor": 5
}
