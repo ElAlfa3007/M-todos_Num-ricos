{
 "cells": [
  {
   "cell_type": "markdown",
   "id": "a1349f41-028e-42a2-8b9b-3a2ddf2af4d5",
   "metadata": {},
   "source": [
    "# Solución en la página:"
   ]
  },
  {
   "cell_type": "code",
   "execution_count": 2,
   "id": "53b43c1d-b2cd-4e19-b858-798259a363f8",
   "metadata": {},
   "outputs": [
    {
     "name": "stdin",
     "output_type": "stream",
     "text": [
      " 0\n"
     ]
    }
   ],
   "source": [
    "import json\n",
    "from collections import defaultdict\n",
    "\n",
    "def parser():\n",
    "    while True:\n",
    "        data = input().strip()\n",
    "        if data:\n",
    "            yield data\n",
    "\n",
    "input_parser = parser()\n",
    "\n",
    "def get_word():\n",
    "    global input_parser\n",
    "    return next(input_parser)\n",
    "\n",
    "def get_number():\n",
    "    data = get_word()\n",
    "    try:\n",
    "        return int(data)\n",
    "    except ValueError:\n",
    "        return float(data)\n",
    "\n",
    "def calculate_h_index(citations):\n",
    "    citations.sort(reverse=True)\n",
    "    h_index = 0\n",
    "    for i, c in enumerate(citations):\n",
    "        if c >= i + 1:\n",
    "            h_index = i + 1\n",
    "        else:\n",
    "            break\n",
    "    return h_index\n",
    "\n",
    "def main():\n",
    "    N = get_number()  # read the number of entries\n",
    "    articles = []\n",
    "\n",
    "    for _ in range(N):\n",
    "        line = get_word()  # read each line as a word\n",
    "        articles.append(line)\n",
    "\n",
    "    author_citations = defaultdict(list)\n",
    "\n",
    "    for article in articles:\n",
    "        entry = json.loads(article)\n",
    "        citation_count = entry.get(\"citing_paper_count\", 0)\n",
    "        authors = entry[\"authors\"][\"authors\"]\n",
    "        for author in authors:\n",
    "            full_name = author[\"full_name\"]\n",
    "            author_citations[full_name].append(citation_count)\n",
    "\n",
    "    author_h_index = {}\n",
    "    for author, citations in author_citations.items():\n",
    "        author_h_index[author] = calculate_h_index(citations)\n",
    "\n",
    "    sorted_authors = sorted(author_h_index.items(), key=lambda x: (-x[1], x[0]))\n",
    "\n",
    "    for author, h_index in sorted_authors:\n",
    "        print(f\"{author} {h_index}\")\n",
    "\n",
    "main()"
   ]
  },
  {
   "cell_type": "code",
   "execution_count": 8,
   "id": "81b4240e-c43b-4127-97a9-d08adf5c9a30",
   "metadata": {},
   "outputs": [
    {
     "name": "stdin",
     "output_type": "stream",
     "text": [
      " 0}\n"
     ]
    },
    {
     "name": "stdout",
     "output_type": "stream",
     "text": [
      "Error: Formato de entrada inválido.\n"
     ]
    }
   ],
   "source": [
    "import json\n",
    "from collections import defaultdict\n",
    "\n",
    "def calculate_h_index(citations):\n",
    "    citations.sort(reverse=True)\n",
    "    h_index = 0\n",
    "    for i, c in enumerate(citations):\n",
    "        if c >= i + 1:\n",
    "            h_index = i + 1\n",
    "        else:\n",
    "            break\n",
    "    return h_index\n",
    "\n",
    "def getInputAPI():\n",
    "    numPapers = int(input().strip())  # Lee el número de artículos\n",
    "    papers = [input().strip() for _ in range(numPapers)]  # Lee cada artículo en formato JSON\n",
    "    return papers\n",
    "\n",
    "def main():\n",
    "    try:\n",
    "        articles_json = getInputAPI()\n",
    "        articles = [json.loads(article) for article in articles_json]\n",
    "    except (json.JSONDecodeError, ValueError):\n",
    "        print(\"Error: Formato de entrada inválido.\")\n",
    "        return\n",
    "    \n",
    "    author_citations = defaultdict(list)\n",
    "    \n",
    "    for article in articles:\n",
    "        authors = article.get('authors', {}).get('authors', [])\n",
    "        citations = article.get('citing_paper_count', 0)\n",
    "        for author in authors:\n",
    "            author_citations[author.get('full_name', '')].append(citations)\n",
    "    \n",
    "    author_h_index = {}\n",
    "    for author, citations in author_citations.items():\n",
    "        author_h_index[author] = calculate_h_index(citations)\n",
    "    \n",
    "    sorted_authors = sorted(author_h_index.items(), key=lambda x: (-x[1], x[0]))\n",
    "    \n",
    "    for author, h_index in sorted_authors:\n",
    "        print(f\"{author} {h_index}\")\n",
    "\n",
    "if _name_ == \"_main_\":\n",
    "    main()"
   ]
  },
  {
   "cell_type": "code",
   "execution_count": null,
   "id": "0e44ff89-073e-4c44-9af7-f66cd9c6e319",
   "metadata": {},
   "outputs": [],
   "source": []
  }
 ],
 "metadata": {
  "kernelspec": {
   "display_name": "Python 3 (ipykernel)",
   "language": "python",
   "name": "python3"
  },
  "language_info": {
   "codemirror_mode": {
    "name": "ipython",
    "version": 3
   },
   "file_extension": ".py",
   "mimetype": "text/x-python",
   "name": "python",
   "nbconvert_exporter": "python",
   "pygments_lexer": "ipython3",
   "version": "3.11.7"
  }
 },
 "nbformat": 4,
 "nbformat_minor": 5
}
