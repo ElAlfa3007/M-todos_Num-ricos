{
 "cells": [
  {
   "cell_type": "code",
   "execution_count": 3,
   "id": "e0700771-e6f3-40df-817c-d7011ccba801",
   "metadata": {},
   "outputs": [],
   "source": [
    "import numpy as np\n",
    "\n",
    "def gauss_jacobi(A, b, x0, tol, max_iter):\n",
    "    n = len(b)\n",
    "    x = x0.copy()\n",
    "    x_new = x0.copy()\n",
    "\n",
    "    for k in range(max_iter):\n",
    "        for i in range(n):\n",
    "            sum_ = 0\n",
    "            for j in range(n):\n",
    "                if i != j:\n",
    "                    sum_ += A[i, j] * x[j]\n",
    "            x_new[i] = (b[i] - sum_) / A[i, i]\n",
    "        \n",
    "        # Check for convergence\n",
    "        if np.linalg.norm(x_new - x, ord=np.inf) < tol:\n",
    "            return x_new, k\n",
    "        \n",
    "        x = x_new.copy()\n",
    "\n",
    "    raise Exception(\"Gauss-Jacobi no converge\")"
   ]
  },
  {
   "cell_type": "code",
   "execution_count": 5,
   "id": "89a175f5-6d73-4088-9647-06ecfdc4b91c",
   "metadata": {},
   "outputs": [
    {
     "name": "stdout",
     "output_type": "stream",
     "text": [
      "Solución: [0.5 1.  0.5], Iteraciones: 76\n"
     ]
    }
   ],
   "source": [
    "A = np.array([[4, 1, 2], [3, 5, 1], [1, 1, 3]], dtype=float)\n",
    "b = np.array([4, 7, 3], dtype=float)\n",
    "x0 = np.zeros(len(b))\n",
    "tol = 1e-10\n",
    "max_iter = 100\n",
    "\n",
    "sol, iterations = gauss_jacobi(A, b, x0, tol, max_iter)\n",
    "print(f'Solución: {sol}, Iteraciones: {iterations}')"
   ]
  },
  {
   "cell_type": "code",
   "execution_count": 7,
   "id": "d20e98fd-c47d-4d95-859c-59db7b3d79a2",
   "metadata": {},
   "outputs": [],
   "source": [
    "import numpy as np\n",
    "\n",
    "def gauss_seidel(A, b, x0, tol, max_iter):\n",
    "    n = len(b)\n",
    "    x = x0.copy()\n",
    "\n",
    "    for k in range(max_iter):\n",
    "        x_new = x.copy()\n",
    "        for i in range(n):\n",
    "            sum1 = sum(A[i, j] * x_new[j] for j in range(i))\n",
    "            sum2 = sum(A[i, j] * x[j] for j in range(i + 1, n))\n",
    "            x_new[i] = (b[i] - sum1 - sum2) / A[i, i]\n",
    "        \n",
    "        # Check for convergence\n",
    "        if np.linalg.norm(x_new - x, ord=np.inf) < tol:\n",
    "            return x_new, k\n",
    "        \n",
    "        x = x_new\n",
    "\n",
    "    raise Exception(\"Gauss-Seidel no converge\")"
   ]
  },
  {
   "cell_type": "code",
   "execution_count": 9,
   "id": "40b35993-5758-453a-af11-f36c4e089b44",
   "metadata": {},
   "outputs": [
    {
     "name": "stdout",
     "output_type": "stream",
     "text": [
      "Solución: [0.5 1.  0.5], Iteraciones: 15\n"
     ]
    }
   ],
   "source": [
    "A = np.array([[4, 1, 2], [3, 5, 1], [1, 1, 3]], dtype=float)\n",
    "b = np.array([4, 7, 3], dtype=float)\n",
    "x0 = np.zeros(len(b))\n",
    "tol = 1e-10\n",
    "max_iter = 100\n",
    "\n",
    "sol, iterations = gauss_seidel(A, b, x0, tol, max_iter)\n",
    "print(f'Solución: {sol}, Iteraciones: {iterations}')"
   ]
  },
  {
   "cell_type": "code",
   "execution_count": null,
   "id": "3590162e-9fc3-4ca7-97f5-8d513bc94ca3",
   "metadata": {},
   "outputs": [],
   "source": []
  }
 ],
 "metadata": {
  "kernelspec": {
   "display_name": "Python 3 (ipykernel)",
   "language": "python",
   "name": "python3"
  },
  "language_info": {
   "codemirror_mode": {
    "name": "ipython",
    "version": 3
   },
   "file_extension": ".py",
   "mimetype": "text/x-python",
   "name": "python",
   "nbconvert_exporter": "python",
   "pygments_lexer": "ipython3",
   "version": "3.11.7"
  }
 },
 "nbformat": 4,
 "nbformat_minor": 5
}
