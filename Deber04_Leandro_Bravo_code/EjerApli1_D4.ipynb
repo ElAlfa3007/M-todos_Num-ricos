{
 "cells": [
  {
   "cell_type": "markdown",
   "id": "57df411f-ca62-4fdd-bd20-0c8e5b056f54",
   "metadata": {},
   "source": [
    "### 1."
   ]
  },
  {
   "cell_type": "code",
   "execution_count": 26,
   "id": "a1e5ff6d-5837-479f-8187-75914f127afa",
   "metadata": {
    "tags": []
   },
   "outputs": [
    {
     "name": "stdout",
     "output_type": "stream",
     "text": [
      "La profundidad del agua en el abrevadero es aproximadamente 0.85 cm\n"
     ]
    }
   ],
   "source": [
    "import math\n",
    "\n",
    "# Función para calcular el volumen de agua en el abrevadero\n",
    "def volumen_agua(h, r, L):\n",
    "    theta = 2 * math.acos((r - h) / r)\n",
    "    return (1/2) * L * (r**2 * theta - r * math.sin(theta)) - (1/2) * (r**2 * math.asin(h/r) - h * (r**2 - h**2)**0.5)\n",
    "\n",
    "# Datos del problema\n",
    "L = 10  # cm\n",
    "r = 1   # cm\n",
    "V_objetivo = 12.4  # cm^3\n",
    "\n",
    "# Método de bisección\n",
    "def metodo_biseccion(V_objetivo, h_min, h_max, tol):\n",
    "    while (h_max - h_min) / 2.0 > tol:\n",
    "        h_medio = (h_min + h_max) / 2.0\n",
    "        if volumen_agua(h_medio, r, L) == V_objetivo:\n",
    "            return h_medio\n",
    "        elif volumen_agua(h_medio, r, L) < V_objetivo:\n",
    "            h_min = h_medio\n",
    "        else:\n",
    "            h_max = h_medio\n",
    "    return (h_min + h_max) / 2.0\n",
    "\n",
    "# Estimación inicial de h_min y h_max\n",
    "h_min = 0.0  # cm\n",
    "h_max = 2 * r  # cm, no puede ser mayor que el diámetro del semicírculo\n",
    "\n",
    "# Encontrar la profundidad del agua h\n",
    "h = metodo_biseccion(V_objetivo, h_min, h_max, 0.01)\n",
    "print(f\"La profundidad del agua en el abrevadero es aproximadamente {h:.2f} cm\")"
   ]
  },
  {
   "cell_type": "code",
   "execution_count": null,
   "id": "6f47c80b-512a-4517-bd87-9a263f5d99bf",
   "metadata": {},
   "outputs": [],
   "source": []
  }
 ],
 "metadata": {
  "kernelspec": {
   "display_name": "Python 3 (ipykernel)",
   "language": "python",
   "name": "python3"
  },
  "language_info": {
   "codemirror_mode": {
    "name": "ipython",
    "version": 3
   },
   "file_extension": ".py",
   "mimetype": "text/x-python",
   "name": "python",
   "nbconvert_exporter": "python",
   "pygments_lexer": "ipython3",
   "version": "3.11.7"
  }
 },
 "nbformat": 4,
 "nbformat_minor": 5
}
